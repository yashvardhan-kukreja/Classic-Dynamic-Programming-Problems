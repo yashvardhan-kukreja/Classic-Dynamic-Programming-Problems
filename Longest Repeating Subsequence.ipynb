{
 "cells": [
  {
   "cell_type": "markdown",
   "metadata": {},
   "source": [
    "# Longest Repeating Subsequence"
   ]
  },
  {
   "cell_type": "markdown",
   "metadata": {},
   "source": [
    "## Introduction"
   ]
  },
  {
   "cell_type": "markdown",
   "metadata": {},
   "source": [
    "Given a string. Find the length of the longest subsequence in it that is occuring more than once.\n",
    "\n",
    "For example, if there's a string \"aabebcdd\" <br>\n",
    "\n",
    "Then, the longest repeating subsequence is \"abd\" coz it's occuring twice (more than once).<br>\n",
    "\n",
    "ALSO, TRY PRINTING THE LONGEST REPEATING SUBSEQUENCE :D"
   ]
  },
  {
   "cell_type": "code",
   "execution_count": 41,
   "metadata": {},
   "outputs": [],
   "source": [
    "def lrs(a, n, m):\n",
    "    if n==0 or m==0:\n",
    "        return 0\n",
    "    else:\n",
    "        if n==m:\n",
    "            return max(solve(a, n-1, m), solve(a, n, m-1))\n",
    "        if a[n-1] == a[m-1]:\n",
    "            return 1 + solve(a, n-1, m-1)\n",
    "        else:\n",
    "            return max(solve(a, n-1, m), solve(a, n, m-1))"
   ]
  },
  {
   "cell_type": "code",
   "execution_count": 42,
   "metadata": {},
   "outputs": [
    {
     "data": {
      "text/plain": [
       "2"
      ]
     },
     "execution_count": 42,
     "metadata": {},
     "output_type": "execute_result"
    }
   ],
   "source": [
    "a = \"axxxy\"\n",
    "n = len(a)\n",
    "lrs(a, n, n)"
   ]
  },
  {
   "cell_type": "code",
   "execution_count": 43,
   "metadata": {},
   "outputs": [],
   "source": [
    "def iter_lrs(a, n, m):\n",
    "    sol = [[-1 for i in range(m+1)] for i in range(n+1)]\n",
    "    for i in range(n+1):\n",
    "        for j in range(m+1):\n",
    "            if i==0 or j==0:\n",
    "                sol[i][j] = 0\n",
    "            else:\n",
    "                if i==j:\n",
    "                    sol[i][j] = max(sol[i-1][j], sol[i][j-1])\n",
    "                    continue\n",
    "                if a[i-1] == a[j-1]:\n",
    "                    sol[i][j] = 1 + sol[i-1][j-1]\n",
    "                else:\n",
    "                    sol[i][j] = max(sol[i-1][j], sol[i][j-1])\n",
    "    return sol, sol[n][m]\n",
    "                \n",
    "def find_lrs(sol, n):\n",
    "    i = n\n",
    "    j = n\n",
    "    output = \"\"\n",
    "    while i>0 and j>0:\n",
    "        if sol[i][j] != sol[i-1][j-1]:\n",
    "            output = a[i-1] + output\n",
    "            i -= 1\n",
    "            j -= 1\n",
    "        else:\n",
    "            i-=1\n",
    "    return output"
   ]
  },
  {
   "cell_type": "code",
   "execution_count": 48,
   "metadata": {},
   "outputs": [
    {
     "data": {
      "text/plain": [
       "'xx'"
      ]
     },
     "execution_count": 48,
     "metadata": {},
     "output_type": "execute_result"
    }
   ],
   "source": [
    "sol, length = iter_lrs(a, n, n)\n",
    "lrs = find_lrs(sol, n)\n",
    "lrs"
   ]
  }
 ],
 "metadata": {
  "kernelspec": {
   "display_name": "Python 3",
   "language": "python",
   "name": "python3"
  },
  "language_info": {
   "codemirror_mode": {
    "name": "ipython",
    "version": 3
   },
   "file_extension": ".py",
   "mimetype": "text/x-python",
   "name": "python",
   "nbconvert_exporter": "python",
   "pygments_lexer": "ipython3",
   "version": "3.7.1"
  }
 },
 "nbformat": 4,
 "nbformat_minor": 2
}
