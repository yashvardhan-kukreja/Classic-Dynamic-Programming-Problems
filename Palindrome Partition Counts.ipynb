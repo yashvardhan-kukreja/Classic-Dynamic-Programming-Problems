{
 "cells": [
  {
   "cell_type": "markdown",
   "metadata": {},
   "source": [
    "# Palindrome Partition Counts"
   ]
  },
  {
   "cell_type": "markdown",
   "metadata": {},
   "source": [
    "## Introduction"
   ]
  },
  {
   "cell_type": "markdown",
   "metadata": {},
   "source": [
    "Given a string. Give the minimum number of partitions to be made to it so that all the partitioned substrings are palindrome. \n",
    "\n",
    "For example,<br>\n",
    "string = \"nitin\"<br>\n",
    "ouput = \"0\" - Because the string itself is a palindrome, so it doesn't require any paritions\n",
    "\n",
    "string = \"nitinarora\"<br>\n",
    "output = \"1\" - Because of this partition -> \"nitin\"|\"arora\" -> generating palindrome substrings\n",
    "\n",
    "string = \"abacd\"\n",
    "output = \"2\" - Becuase these partitions -> \"aba\" | \"c\" | \"d\" -> generating palindrome substrings"
   ]
  },
  {
   "cell_type": "code",
   "execution_count": null,
   "metadata": {},
   "outputs": [],
   "source": []
  },
  {
   "cell_type": "code",
   "execution_count": 66,
   "metadata": {},
   "outputs": [],
   "source": [
    "def is_palindrome(s):\n",
    "    start = 0\n",
    "    end = len(s)-1\n",
    "    while start<end:\n",
    "        if s[start] == s[end]:\n",
    "            start += 1\n",
    "            end -= 1\n",
    "        else:\n",
    "            return False\n",
    "    return True\n",
    "\n",
    "def solve(s, start, end):\n",
    "    if start==end: ### String of length 1 requires 0 partitions\n",
    "        return 0\n",
    "    if start > end:\n",
    "        return 0\n",
    "    if is_palindrome(s[start:end+1]): ### If the current string is already a palindrome then, no partitions required\n",
    "        return 0\n",
    "    \n",
    "    min_cost = 9999999999999999\n",
    "    for k in range(start, end): #### k -> start .. end-1 inclusive\n",
    "        current_cost = 1 + solve(s, start, k) + solve(s, k+1, end)\n",
    "        if current_cost < min_cost:\n",
    "            min_cost = current_cost\n",
    "    return min_cost\n",
    "\n",
    "def memoized_solve(s, start, end, history):\n",
    "    if history[start][end] != -1:\n",
    "        return history[start][end]\n",
    "    if start == end:\n",
    "        history[start][end] = 0\n",
    "        return history[start][end]\n",
    "    if start > end:\n",
    "        history[start][end] = 0\n",
    "        return history[start][end]\n",
    "    if is_palindrome(s[start:end+1]):\n",
    "        history[start][end] = 0\n",
    "        return history[start][end]\n",
    "    \n",
    "    min_cost = 99999999999999\n",
    "    for k in range(start, end):\n",
    "        current_cost = 1 + memoized_solve(s, start, k, history) + memoized_solve(s, k+1, end, history)\n",
    "        if current_cost < min_cost:\n",
    "            min_cost = current_cost\n",
    "    history[start][end] = min_cost\n",
    "    return history[start][end]\n",
    "\n",
    "##### Much more optimized version\n",
    "#### here, we are caching the function calls happening inside the for-loop as well\n",
    "def optimized_memoized_solve(s, start, end, history):\n",
    "    if history[start][end] != -1:\n",
    "        return history[start][end]\n",
    "    if start == end:\n",
    "        history[start][end] = 0\n",
    "        return history[start][end]\n",
    "    if start > end:\n",
    "        history[start][end] = 0\n",
    "        return history[start][end]\n",
    "    if is_palindrome(s[start:end+1]):\n",
    "        history[start][end] = 0\n",
    "        return history[start][end]\n",
    "    \n",
    "    min_cost = 99999999999999\n",
    "    for k in range(start, end):\n",
    "        if history[start][k] != -1:\n",
    "            left = history[start][k]\n",
    "        else:\n",
    "            left = optimized_memoized_solve(s, start, k, history)\n",
    "        if history[k+1][end] != -1:\n",
    "            right = history[k+1][end]\n",
    "        else:\n",
    "            right = optimized_memoized_solve(s, k+1, end, history)\n",
    "        current_cost = 1 + left + right\n",
    "        if current_cost < min_cost:\n",
    "            min_cost = current_cost\n",
    "    history[start][end] = min_cost\n",
    "    return history[start][end]"
   ]
  },
  {
   "cell_type": "code",
   "execution_count": 67,
   "metadata": {},
   "outputs": [],
   "source": [
    "s = \"axyxnitin\"\n",
    "n = len(s)\n",
    "start = 0\n",
    "end = n-1\n",
    "history = [[-1 for i in range(n)] for i in range(n)]"
   ]
  },
  {
   "cell_type": "code",
   "execution_count": 68,
   "metadata": {},
   "outputs": [
    {
     "data": {
      "text/plain": [
       "2"
      ]
     },
     "execution_count": 68,
     "metadata": {},
     "output_type": "execute_result"
    }
   ],
   "source": [
    "optimized_memoized_solve(s, start, end, history)"
   ]
  }
 ],
 "metadata": {
  "kernelspec": {
   "display_name": "Python 3",
   "language": "python",
   "name": "python3"
  },
  "language_info": {
   "codemirror_mode": {
    "name": "ipython",
    "version": 3
   },
   "file_extension": ".py",
   "mimetype": "text/x-python",
   "name": "python",
   "nbconvert_exporter": "python",
   "pygments_lexer": "ipython3",
   "version": "3.7.1"
  }
 },
 "nbformat": 4,
 "nbformat_minor": 2
}
