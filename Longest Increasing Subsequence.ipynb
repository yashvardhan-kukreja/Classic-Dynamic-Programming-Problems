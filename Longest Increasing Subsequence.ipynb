{
 "cells": [
  {
   "cell_type": "markdown",
   "metadata": {},
   "source": [
    "# Longest Increasing Subsequence"
   ]
  },
  {
   "cell_type": "markdown",
   "metadata": {},
   "source": [
    "## Introduction"
   ]
  },
  {
   "cell_type": "markdown",
   "metadata": {},
   "source": [
    "Given an array of integers.<br>\n",
    "Find the length of the longest subsequence of increasing elements<br>\n",
    "For example\n",
    "\n",
    "array = [1, 2, 3, 4, 10,12, 1, 6, 7, 8]\n",
    "\n",
    "Here, the length of longest increasing subsequence is: 7 ([1, 2, 3, 4, 6, 7, 8])"
   ]
  },
  {
   "cell_type": "markdown",
   "metadata": {},
   "source": [
    "### Recursive solution:"
   ]
  },
  {
   "cell_type": "code",
   "execution_count": 11,
   "metadata": {},
   "outputs": [],
   "source": [
    "integers = [1, 2, 3, 4, 10,12, 1, 6, 7, 8]"
   ]
  },
  {
   "cell_type": "code",
   "execution_count": 12,
   "metadata": {},
   "outputs": [
    {
     "data": {
      "text/plain": [
       "7"
      ]
     },
     "execution_count": 12,
     "metadata": {},
     "output_type": "execute_result"
    }
   ],
   "source": [
    "def lis(integers, n, last_added_element):\n",
    "    if n==0:\n",
    "        return 0\n",
    "    else:\n",
    "        current_element = integers[n-1]\n",
    "        if current_element <= last_added_element:\n",
    "            return max(1+lis(integers, n-1, current_element), lis(integers, n-1, last_added_element))\n",
    "        else:\n",
    "            return lis(integers, n-1, last_added_element)\n",
    "lis(integers, len(integers), 1000000000)"
   ]
  },
  {
   "cell_type": "code",
   "execution_count": 184,
   "metadata": {},
   "outputs": [],
   "source": [
    "def memoized_lis(integers, n, last_added_element, history):\n",
    "    if n==0:\n",
    "        history[n][last_added_element] = 0\n",
    "        return history[n][last_added_element]\n",
    "    else:\n",
    "        if history[n][last_added_element] != -1:\n",
    "            return history[n][last_added_element]\n",
    "        else:\n",
    "            current_element = integers[n-1]\n",
    "            if current_element <= last_added_element:\n",
    "                history[n][last_added_element] = max(1 + memoized_lis(integers, n-1, current_element, history), memoized_lis(integers, n-1, last_added_element, history))\n",
    "                return history[n][last_added_element]\n",
    "            else:\n",
    "                history[n][last_added_element] = memoized_lis(integers, n-1, last_added_element, history)\n",
    "                return history[n][last_added_element]\n"
   ]
  },
  {
   "cell_type": "code",
   "execution_count": 185,
   "metadata": {},
   "outputs": [],
   "source": [
    "history = [[-1 for j in range(100000+1)] for i in range(len(integers)+1)]"
   ]
  },
  {
   "cell_type": "code",
   "execution_count": 186,
   "metadata": {},
   "outputs": [
    {
     "data": {
      "text/plain": [
       "6"
      ]
     },
     "execution_count": 186,
     "metadata": {},
     "output_type": "execute_result"
    }
   ],
   "source": [
    "memoized_lis(integers, len(integers), 1000, history)"
   ]
  },
  {
   "cell_type": "code",
   "execution_count": 138,
   "metadata": {},
   "outputs": [
    {
     "data": {
      "text/plain": [
       "[0, 8, 4, 12, 2, 10, 6, 14, 1, 9, 5, 13, 3, 11, 7, 15]"
      ]
     },
     "execution_count": 138,
     "metadata": {},
     "output_type": "execute_result"
    }
   ],
   "source": [
    "integers"
   ]
  },
  {
   "cell_type": "code",
   "execution_count": 178,
   "metadata": {},
   "outputs": [],
   "source": [
    "def iterative_lis(integers, n, last_added_element, sub_solutions):\n",
    "    for i in range (0, n+1):\n",
    "        for j in range(0, last_added_element+1):\n",
    "            if i==0:\n",
    "                sub_solutions[i][j] = 0\n",
    "            else:\n",
    "                current_element = integers[i-1]\n",
    "                current_last_added_element = j\n",
    "                if current_element <= current_last_added_element:\n",
    "                    sub_solutions[i][j] = max(1 + sub_solutions[n-1][current_element], sub_solutions[i-1][current_last_added_element])\n",
    "                else:\n",
    "                    sub_solutions[i][j] = sub_solutions[i-1][j]\n",
    "    return sub_solutions[n][last_added_element]"
   ]
  },
  {
   "cell_type": "code",
   "execution_count": 181,
   "metadata": {},
   "outputs": [],
   "source": [
    "sub_solutions = [[-1 for j in range(100000+1)] for i in range(len(integers)+1)]"
   ]
  },
  {
   "cell_type": "code",
   "execution_count": 182,
   "metadata": {},
   "outputs": [
    {
     "data": {
      "text/plain": [
       "2"
      ]
     },
     "execution_count": 182,
     "metadata": {},
     "output_type": "execute_result"
    }
   ],
   "source": [
    "iterative_lis(integers, len(integers), 100000, sub_solutions)"
   ]
  },
  {
   "cell_type": "markdown",
   "metadata": {},
   "source": [
    "# Longest Increasing Substring:"
   ]
  },
  {
   "cell_type": "markdown",
   "metadata": {},
   "source": [
    "### Recursive Solution"
   ]
  },
  {
   "cell_type": "code",
   "execution_count": 121,
   "metadata": {},
   "outputs": [],
   "source": [
    "def lis(integers, n, already_added_element, current_max, current_substring_length):\n",
    "    if n == 0:\n",
    "        if current_substring_length > current_max:\n",
    "            current_max = current_substring_length\n",
    "        return current_max\n",
    "    else:\n",
    "        current_element = integers[n-1]\n",
    "        if current_element <= already_added_element:\n",
    "            return lis(integers, n-1, current_element, current_max, current_substring_length+1)\n",
    "        else:\n",
    "            if current_substring_length > current_max:\n",
    "                current_max = current_substring_length\n",
    "            return lis(integers, n-1, current_element, current_max, 1)"
   ]
  },
  {
   "cell_type": "code",
   "execution_count": 122,
   "metadata": {},
   "outputs": [
    {
     "data": {
      "text/plain": [
       "4"
      ]
     },
     "execution_count": 122,
     "metadata": {},
     "output_type": "execute_result"
    }
   ],
   "source": [
    "integers = [1, 2, 3, 2, 5, 2,5, 7, 9, 0, 1]\n",
    "n = len(integers)\n",
    "lis(integers, n, 1000000, 0, 0)"
   ]
  },
  {
   "cell_type": "code",
   "execution_count": 189,
   "metadata": {},
   "outputs": [],
   "source": [
    "def lis(integers, n, prev_added_element):\n",
    "    if n==0:\n",
    "        return 0\n",
    "    else:\n",
    "        current_int = integers[n-1]\n",
    "        if current_int <= prev_added_element:\n",
    "            return max(1+lis(integers, n-1, current_int), lis(integers, n-1, prev_added_element))\n",
    "        else:\n",
    "            return lis(integers, n-1, prev_added_element)"
   ]
  },
  {
   "cell_type": "code",
   "execution_count": 190,
   "metadata": {},
   "outputs": [
    {
     "data": {
      "text/plain": [
       "7"
      ]
     },
     "execution_count": 190,
     "metadata": {},
     "output_type": "execute_result"
    }
   ],
   "source": [
    "lis([1, 2, 3, 4, 10,12, 1, 6, 7, 8], 10, 10000000000000)"
   ]
  },
  {
   "cell_type": "code",
   "execution_count": null,
   "metadata": {},
   "outputs": [],
   "source": []
  },
  {
   "cell_type": "code",
   "execution_count": null,
   "metadata": {},
   "outputs": [],
   "source": []
  },
  {
   "cell_type": "code",
   "execution_count": null,
   "metadata": {},
   "outputs": [],
   "source": []
  },
  {
   "cell_type": "code",
   "execution_count": null,
   "metadata": {},
   "outputs": [],
   "source": []
  },
  {
   "cell_type": "code",
   "execution_count": null,
   "metadata": {},
   "outputs": [],
   "source": []
  },
  {
   "cell_type": "code",
   "execution_count": null,
   "metadata": {},
   "outputs": [],
   "source": []
  },
  {
   "cell_type": "code",
   "execution_count": 4,
   "metadata": {},
   "outputs": [],
   "source": [
    "def lis(integers, n, largest_till_now):\n",
    "    if n==0:\n",
    "        return 0\n",
    "    else:\n",
    "        current = integers[n-1]\n",
    "        if current <= largest_till_now:\n",
    "            return max(1+lis(integers, n-1, current), lis(integers, n-1, largest_till_now))\n",
    "        else:\n",
    "            return lis(integers, n-1, largest_till_now)"
   ]
  },
  {
   "cell_type": "code",
   "execution_count": 5,
   "metadata": {},
   "outputs": [],
   "source": [
    "integers = [1, 2, 3, 4, 10,12, 1, 6, 7, 8]\n",
    "n = len(integers)"
   ]
  },
  {
   "cell_type": "code",
   "execution_count": 10,
   "metadata": {},
   "outputs": [
    {
     "data": {
      "text/plain": [
       "7"
      ]
     },
     "execution_count": 10,
     "metadata": {},
     "output_type": "execute_result"
    }
   ],
   "source": [
    "lis(integers, n, 9999999999999)"
   ]
  },
  {
   "cell_type": "code",
   "execution_count": null,
   "metadata": {},
   "outputs": [],
   "source": []
  }
 ],
 "metadata": {
  "kernelspec": {
   "display_name": "Python 3",
   "language": "python",
   "name": "python3"
  },
  "language_info": {
   "codemirror_mode": {
    "name": "ipython",
    "version": 3
   },
   "file_extension": ".py",
   "mimetype": "text/x-python",
   "name": "python",
   "nbconvert_exporter": "python",
   "pygments_lexer": "ipython3",
   "version": "3.7.1"
  }
 },
 "nbformat": 4,
 "nbformat_minor": 2
}
