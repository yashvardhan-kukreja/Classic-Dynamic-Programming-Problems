{
 "cells": [
  {
   "cell_type": "markdown",
   "metadata": {},
   "source": [
    "# Shortest Common Supersequence"
   ]
  },
  {
   "cell_type": "markdown",
   "metadata": {},
   "source": [
    "## Introduction"
   ]
  },
  {
   "cell_type": "markdown",
   "metadata": {},
   "source": [
    "Given two strings a and b<br>\n",
    "Find the length of the shortest common supersequence which basically contains a and b separately as individual subsequences.\n",
    "\n",
    "For example, <br>\n",
    "a = \"geek\"<br>\n",
    "b = \"eke\"<br>\n",
    "\n",
    "So, output = 5 because shortest common supersequence is = geeke"
   ]
  },
  {
   "cell_type": "code",
   "execution_count": 1,
   "metadata": {},
   "outputs": [],
   "source": [
    "def scs(a, b, n, m):\n",
    "    if n == 0 or m==0:\n",
    "        return m+n ### basically, if m==0, return n .... and if n==0, return m\n",
    "    else:\n",
    "        if a[n-1] == b[m-1]:\n",
    "            return 1+scs(a, b, n-1, m-1)\n",
    "        else:\n",
    "            return min(1+scs(a, b, n-1, m), 1+scs(a, b, n, m-1))\n",
    "        \n",
    "def iterative_scs(a, b, n, m):\n",
    "    sub_solutions = [[-1 for j in range(m+1)] for i in range(n+1)]\n",
    "    for i in range(n+1):\n",
    "        for j in range(m+1):\n",
    "            if i==0 or j==0:\n",
    "                sub_solutions[i][j] = i+j\n",
    "            else:\n",
    "                if a[i-1] == b[j-1]:\n",
    "                    sub_solutions[i][j] = 1+sub_solutions[i-1][j-1]\n",
    "                else:\n",
    "                    sub_solutions[i][j] = min(1+sub_solutions[i-1][j], 1+sub_solutions[i][j-1])\n",
    "    return sub_solutions[n][m], sub_solutions\n",
    "\n",
    "def print_matrix(mat):\n",
    "    for i in mat:\n",
    "        for j in i:\n",
    "            print (j, end=\" \")\n",
    "        print (\"\")"
   ]
  },
  {
   "cell_type": "code",
   "execution_count": 2,
   "metadata": {},
   "outputs": [],
   "source": [
    "a = \"AGGTAB\"\n",
    "b = \"GXTXAYB\"\n",
    "n = len(a)\n",
    "m = len(b)"
   ]
  },
  {
   "cell_type": "code",
   "execution_count": 3,
   "metadata": {},
   "outputs": [
    {
     "data": {
      "text/plain": [
       "9"
      ]
     },
     "execution_count": 3,
     "metadata": {},
     "output_type": "execute_result"
    }
   ],
   "source": [
    "scs(a, b, n, m)"
   ]
  },
  {
   "cell_type": "code",
   "execution_count": 6,
   "metadata": {},
   "outputs": [
    {
     "data": {
      "text/plain": [
       "[[0, 1, 2, 3, 4, 5, 6, 7],\n",
       " [1, 2, 3, 4, 5, 5, 6, 7],\n",
       " [2, 2, 3, 4, 5, 6, 7, 8],\n",
       " [3, 3, 4, 5, 6, 7, 8, 9],\n",
       " [4, 4, 5, 5, 6, 7, 8, 9],\n",
       " [5, 5, 6, 6, 7, 7, 8, 9],\n",
       " [6, 6, 7, 7, 8, 8, 9, 9]]"
      ]
     },
     "execution_count": 6,
     "metadata": {},
     "output_type": "execute_result"
    }
   ],
   "source": [
    "min_len, sol = iterative_scs(a, b, n, m)\n",
    "sol"
   ]
  },
  {
   "cell_type": "code",
   "execution_count": 5,
   "metadata": {},
   "outputs": [],
   "source": [
    "def print_scs(a, b, n, m):\n",
    "    i = n\n",
    "    j = m\n",
    "\n",
    "    output = \"\"\n",
    "\n",
    "    while i>0 and j>0:\n",
    "\n",
    "        if sol[i-1][j] == sol[i][j-1] and sol[i-1][j] == sol[i][j]:\n",
    "            output = a[i-1] + output\n",
    "            i -= 1\n",
    "            j -= 1\n",
    "        else:\n",
    "            if sol[i-1][j] > sol[i][j-1]:\n",
    "                output = b[j-1] + output\n",
    "                j -= 1\n",
    "            else:\n",
    "                output = a[i-1] + output\n",
    "                i -= 1\n",
    "    if i!=j:\n",
    "        if j>0:\n",
    "            output = b[:j] + output\n",
    "        else:\n",
    "            output = a[:i] + output\n",
    "    return (output)\n",
    "    "
   ]
  },
  {
   "cell_type": "markdown",
   "metadata": {},
   "source": [
    "## Another Great Approach - By using LCS"
   ]
  },
  {
   "cell_type": "markdown",
   "metadata": {},
   "source": [
    "Basically, \n",
    "\n",
    "Find the lamest solution. It is basically, appending a with b. That would be a supersequence as well but not the shortest one.\n",
    "\n",
    "So, this means that it has some unnecessary characters which can be removed.\n",
    "\n",
    "The unnecessary characters are basically the characters in order which are present in string a and string b in the same order (contiguously or non-contiguously, whatever, because we are dealing with subsequences here and not sub strings).\n",
    "\n",
    "So, they are unnecessary because they are occuring twice (one set belongs to string a half, one set belongs to string b half, ... because we straight away appended the strings). So, we have to remove them once. **And that will give us the shortest common supersequence.**\n",
    "\n",
    "So, total number of such unnecessary characters = length of the longest common subsequence of a and b\n",
    "\n",
    "**So, on removing the unnecessary characters from the lamest approach, the length we will be left with = (m+n) - LCS**\n",
    "\n",
    "Here, (m+n) -> original length of the lamest solution.<br>\n",
    "LCS -> length of the longest common subsequence between a and b"
   ]
  },
  {
   "cell_type": "code",
   "execution_count": 11,
   "metadata": {},
   "outputs": [],
   "source": [
    "def iterative_lcs(a, b, n, m):\n",
    "    sol = [[-1 for j in range(m+1)] for i in range(n+1)]\n",
    "    for i in range(n+1):\n",
    "        for j in range(m+1):\n",
    "            if i==0 or j==0:\n",
    "                sol[i][j] = 0\n",
    "            else:\n",
    "                if a[i-1] == b[j-1]:\n",
    "                    sol[i][j] = 1 + sol[i-1][j-1]\n",
    "                else:\n",
    "                    sol[i][j] = max(sol[i-1][j], sol[i][j-1])\n",
    "    return sol, sol[n][m]"
   ]
  },
  {
   "cell_type": "code",
   "execution_count": 12,
   "metadata": {},
   "outputs": [],
   "source": [
    "a = \"geek\"\n",
    "b = \"eke\"\n",
    "n = len(a)\n",
    "m = len(b)"
   ]
  },
  {
   "cell_type": "code",
   "execution_count": 13,
   "metadata": {},
   "outputs": [],
   "source": [
    "sol, length = iterative_lcs(a, b, n, m)"
   ]
  },
  {
   "cell_type": "code",
   "execution_count": 30,
   "metadata": {},
   "outputs": [],
   "source": [
    "i = n\n",
    "j = m\n",
    "\n",
    "lcs = \"\"\n",
    "\n",
    "while i>=0 and j>=0:\n",
    "    if sol[i][j] != sol[i-1][j-1]:\n",
    "        lcs = a[i-1] + lcs\n",
    "        i -= 1\n",
    "        j -= 1\n",
    "    else:\n",
    "        i-=1"
   ]
  },
  {
   "cell_type": "code",
   "execution_count": 31,
   "metadata": {},
   "outputs": [
    {
     "data": {
      "text/plain": [
       "'keeg'"
      ]
     },
     "execution_count": 31,
     "metadata": {},
     "output_type": "execute_result"
    }
   ],
   "source": [
    "lcs"
   ]
  },
  {
   "cell_type": "code",
   "execution_count": 21,
   "metadata": {},
   "outputs": [],
   "source": [
    "total = a+b"
   ]
  },
  {
   "cell_type": "code",
   "execution_count": 82,
   "metadata": {},
   "outputs": [],
   "source": [
    "def solve(a, b, n, m):\n",
    "    if n==0 or m==0:\n",
    "        return 0\n",
    "    else:\n",
    "        if a[n-1]!=b[m-1]:\n",
    "            return min(1 + solve(a, b, n-1, m), 1 + solve(a, b, n, m-1), 2 + solve(a, b, n-1, m-1))\n",
    "        else:\n",
    "            return min(1 + solve(a, b, n-1, m),1 + solve(a, b, n, m-1), 1 + solve(a, b, n-1, m-1))"
   ]
  },
  {
   "cell_type": "code",
   "execution_count": 83,
   "metadata": {},
   "outputs": [],
   "source": [
    "a =  \"babab\"\n",
    "b = \"babba\"\n",
    "n = len(a)\n",
    "m = len(b)"
   ]
  },
  {
   "cell_type": "code",
   "execution_count": 84,
   "metadata": {},
   "outputs": [
    {
     "data": {
      "text/plain": [
       "5"
      ]
     },
     "execution_count": 84,
     "metadata": {},
     "output_type": "execute_result"
    }
   ],
   "source": [
    "solve(a, b, n, m)"
   ]
  },
  {
   "cell_type": "code",
   "execution_count": null,
   "metadata": {},
   "outputs": [],
   "source": []
  }
 ],
 "metadata": {
  "kernelspec": {
   "display_name": "Python 3",
   "language": "python",
   "name": "python3"
  },
  "language_info": {
   "codemirror_mode": {
    "name": "ipython",
    "version": 3
   },
   "file_extension": ".py",
   "mimetype": "text/x-python",
   "name": "python",
   "nbconvert_exporter": "python",
   "pygments_lexer": "ipython3",
   "version": "3.7.1"
  }
 },
 "nbformat": 4,
 "nbformat_minor": 2
}
