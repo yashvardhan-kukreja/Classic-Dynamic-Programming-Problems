{
 "cells": [
  {
   "cell_type": "markdown",
   "metadata": {},
   "source": [
    "# Max Contiguous Recurring Character in a string"
   ]
  },
  {
   "cell_type": "markdown",
   "metadata": {},
   "source": [
    "## Introduction"
   ]
  },
  {
   "cell_type": "markdown",
   "metadata": {},
   "source": [
    "Given a string. Find the character which occurs the maximum number of times contiguously.\n",
    "\n",
    "For example, <br>\n",
    "string = \"aaabbccccddbbaaa\"\n",
    "\n",
    "here, the output is \"c\" because it recurring for the max. number of times contiguously (4 times) \n"
   ]
  },
  {
   "cell_type": "code",
   "execution_count": 5,
   "metadata": {},
   "outputs": [
    {
     "name": "stdout",
     "output_type": "stream",
     "text": [
      "Max contiguously recurring character is: c (Recurring 4 times contiguously)\n"
     ]
    }
   ],
   "source": [
    "s = \"aaabbccccddbbaaa\"\n",
    "n = len(s)\n",
    "\n",
    "sol = [0 for i in range(n+1)]\n",
    "sol[0] = 0\n",
    "sol[1] = 1\n",
    "max_so_far = 0\n",
    "max_char = s[0]\n",
    "for i in range(2, n+1):\n",
    "    if s[i-1] == s[i-2]:\n",
    "        sol[i] = sol[i-1] + 1\n",
    "        if sol[i] > max_so_far:\n",
    "            max_so_far = sol[i]\n",
    "            max_char = s[i-1]\n",
    "    else:\n",
    "        sol[i] = 1\n",
    "        \n",
    "print (\"Max contiguously recurring character is: {} (Recurring {} times contiguously)\".format(max_char, max_so_far))"
   ]
  }
 ],
 "metadata": {
  "kernelspec": {
   "display_name": "Python 3",
   "language": "python",
   "name": "python3"
  },
  "language_info": {
   "codemirror_mode": {
    "name": "ipython",
    "version": 3
   },
   "file_extension": ".py",
   "mimetype": "text/x-python",
   "name": "python",
   "nbconvert_exporter": "python",
   "pygments_lexer": "ipython3",
   "version": "3.7.1"
  }
 },
 "nbformat": 4,
 "nbformat_minor": 2
}
