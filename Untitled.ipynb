{
 "cells": [
  {
   "cell_type": "code",
   "execution_count": 85,
   "metadata": {},
   "outputs": [],
   "source": [
    "import random\n",
    "import json\n",
    "import glob\n",
    "import os"
   ]
  },
  {
   "cell_type": "code",
   "execution_count": 86,
   "metadata": {},
   "outputs": [],
   "source": [
    "def add_question(path, bucket_name):\n",
    "    with open(path, \"r\") as f:\n",
    "        if f.mode == \"r\":\n",
    "            cells = json.loads(f.read())[\"cells\"]\n",
    "            markdown_cells = [cell for cell in cells if cell[\"cell_type\"]==\"markdown\"]\n",
    "            key = markdown_cells[0][\"source\"][0]\n",
    "            print (key)\n",
    "            value = \" \".join(markdown_cells[2][\"source\"])\n",
    "    os.system(\"\"\"go-persistence --add-key --bucket-name {} --key \"{}\" --value \"{}\" \"\"\".format(bucket_name, key, \"something\"))"
   ]
  },
  {
   "cell_type": "code",
   "execution_count": 87,
   "metadata": {},
   "outputs": [],
   "source": [
    "paths = glob.glob(\"/home/yash1300/Desktop/dynamic programming/*.ipynb\")"
   ]
  },
  {
   "cell_type": "code",
   "execution_count": 88,
   "metadata": {},
   "outputs": [
    {
     "name": "stdout",
     "output_type": "stream",
     "text": [
      "## Target Sum Expression Problem:\n",
      "# Count of subset-pairs with the given difference\n",
      "\n",
      "# Subset Sum Problem\n",
      "# Longest Increasing Subsequence\n",
      "# Equal Sum Partition Problem:\n",
      "# Possible combination of expressions to achieve target sum problem\n",
      "## Subset Sum Count Problem\n",
      "# Maximum Subarray Sum Problem\n",
      "# 0-1 Knapsack Problem\n",
      "# Minimum Subset Difference Problem\n"
     ]
    }
   ],
   "source": [
    "os.system(\"\"\"go-persistence --delete-bucket --bucket-name {}\"\"\".format(\"dp-questions\"))\n",
    "os.system(\"\"\"go-persistence --create-bucket --bucket-name {}\"\"\".format(\"dp-questions\"))\n",
    "\n",
    "for path in paths:\n",
    "    if path != \"/home/yash1300/Desktop/dynamic programming/Untitled.ipynb\":\n",
    "        add_question(path, \"dp-questions\")"
   ]
  },
  {
   "cell_type": "code",
   "execution_count": null,
   "metadata": {},
   "outputs": [],
   "source": [
    "os.system(\"\"\"go-persistence --create-bucket --bucket-name dp-questions\"\"\")"
   ]
  },
  {
   "cell_type": "code",
   "execution_count": null,
   "metadata": {},
   "outputs": [],
   "source": [
    "os.system(\"\"\"go-persistence --add-key --bucket-name dp-questions --key \"{}\" --value \"{}\" \"\"\".format(key, value))"
   ]
  },
  {
   "cell_type": "code",
   "execution_count": null,
   "metadata": {},
   "outputs": [],
   "source": [
    "markdown_cells[2][\"source\"]"
   ]
  },
  {
   "cell_type": "code",
   "execution_count": null,
   "metadata": {},
   "outputs": [],
   "source": []
  }
 ],
 "metadata": {
  "kernelspec": {
   "display_name": "Python 3",
   "language": "python",
   "name": "python3"
  },
  "language_info": {
   "codemirror_mode": {
    "name": "ipython",
    "version": 3
   },
   "file_extension": ".py",
   "mimetype": "text/x-python",
   "name": "python",
   "nbconvert_exporter": "python",
   "pygments_lexer": "ipython3",
   "version": "3.7.1"
  }
 },
 "nbformat": 4,
 "nbformat_minor": 2
}
