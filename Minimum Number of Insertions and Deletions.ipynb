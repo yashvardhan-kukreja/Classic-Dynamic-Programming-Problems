{
 "cells": [
  {
   "cell_type": "markdown",
   "metadata": {},
   "source": [
    "# Minimum Number of Insertions and Deletion to reach from a to b"
   ]
  },
  {
   "cell_type": "markdown",
   "metadata": {},
   "source": [
    "## Introduction"
   ]
  },
  {
   "cell_type": "markdown",
   "metadata": {},
   "source": [
    "Given two strings a and b. <br>\n",
    "Provide the minimum number of insertions and deletions required to reach from a to b.<br>"
   ]
  },
  {
   "cell_type": "markdown",
   "metadata": {},
   "source": [
    "## Approach"
   ]
  },
  {
   "cell_type": "markdown",
   "metadata": {},
   "source": [
    "Find the longest common subsequence. Subtract it from the length of longest string amongst a and b."
   ]
  },
  {
   "cell_type": "code",
   "execution_count": 17,
   "metadata": {},
   "outputs": [],
   "source": [
    "def lcs(a, b, n, m):\n",
    "    if n==0 or m==0:\n",
    "        return 0\n",
    "    else:\n",
    "        if a[n-1] == b[m-1]:\n",
    "            return 1 + lcs(a, b, n-1, m-1)\n",
    "        else:\n",
    "            return max(lcs(a, b, n-1, m), lcs(a, b, n, m-1))"
   ]
  },
  {
   "cell_type": "code",
   "execution_count": 18,
   "metadata": {},
   "outputs": [
    {
     "data": {
      "text/plain": [
       "0"
      ]
     },
     "execution_count": 18,
     "metadata": {},
     "output_type": "execute_result"
    }
   ],
   "source": [
    "a = \"\"\n",
    "b = \"\"\n",
    "n = len(a)\n",
    "m = len(b)\n",
    "lcs(a, b, n, m)"
   ]
  },
  {
   "cell_type": "code",
   "execution_count": 19,
   "metadata": {},
   "outputs": [
    {
     "name": "stdout",
     "output_type": "stream",
     "text": [
      "Insertions: 0\n",
      "Deletions: 0\n"
     ]
    }
   ],
   "source": [
    "deletions = n - lcs(a, b, n, m)\n",
    "insertions = m - lcs(a, b, n, m)\n",
    "print (\"Insertions: {}\\nDeletions: {}\".format(insertions, deletions))"
   ]
  },
  {
   "cell_type": "code",
   "execution_count": null,
   "metadata": {},
   "outputs": [],
   "source": []
  }
 ],
 "metadata": {
  "kernelspec": {
   "display_name": "Python 3",
   "language": "python",
   "name": "python3"
  },
  "language_info": {
   "codemirror_mode": {
    "name": "ipython",
    "version": 3
   },
   "file_extension": ".py",
   "mimetype": "text/x-python",
   "name": "python",
   "nbconvert_exporter": "python",
   "pygments_lexer": "ipython3",
   "version": "3.7.1"
  }
 },
 "nbformat": 4,
 "nbformat_minor": 2
}
