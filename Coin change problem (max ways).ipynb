{
 "cells": [
  {
   "cell_type": "markdown",
   "metadata": {},
   "source": [
    "# Coin Change Problem - Max. Ways"
   ]
  },
  {
   "cell_type": "markdown",
   "metadata": {},
   "source": [
    "## Introduction"
   ]
  },
  {
   "cell_type": "markdown",
   "metadata": {},
   "source": [
    "Given a supply of coins and a target sum.<br>\n",
    "Calculate the number of ways you can reach the target sum by making use of the coins.<br>\n",
    "Assume that the quantity of coins is unlimited<br>\n"
   ]
  },
  {
   "cell_type": "code",
   "execution_count": 1,
   "metadata": {},
   "outputs": [],
   "source": [
    "def ways(coins, n, target):\n",
    "    if target==0:\n",
    "        return 1\n",
    "    elif n==0:\n",
    "        return 0\n",
    "    else:\n",
    "        current = coins[n-1]\n",
    "        if current <= target:\n",
    "            return  ways(coins, n, target-current) + ways(coins, n-1, target)\n",
    "        else:\n",
    "            return ways(coins, n-1, target)\n",
    "        \n",
    "def iterative_ways(coins, n, target):\n",
    "    sub_solutions = [[-1 for j in range(target+1)] for i in range(n+1)]\n",
    "    for i in range(n+1):\n",
    "        for j in range(target+1):\n",
    "            if j==0:\n",
    "                sub_solutions[i][j] = 1\n",
    "            elif i==0:\n",
    "                sub_solutions[i][j] = 0\n",
    "            else:\n",
    "                current = coins[i-1]\n",
    "                if current <= j:\n",
    "                    sub_solutions[i][j] = sub_solutions[i][j-current] + sub_solutions[i-1][j]\n",
    "                else:\n",
    "                    sub_solutions[i][j] = sub_solutions[i-1][j]\n",
    "    return sub_solutions[n][target]"
   ]
  },
  {
   "cell_type": "code",
   "execution_count": 5,
   "metadata": {},
   "outputs": [],
   "source": [
    "coins = [2, 1]\n",
    "n = len(coins)\n",
    "target = 5"
   ]
  },
  {
   "cell_type": "code",
   "execution_count": 6,
   "metadata": {},
   "outputs": [
    {
     "data": {
      "text/plain": [
       "3"
      ]
     },
     "execution_count": 6,
     "metadata": {},
     "output_type": "execute_result"
    }
   ],
   "source": [
    "ways(coins, n, 5)"
   ]
  },
  {
   "cell_type": "code",
   "execution_count": 7,
   "metadata": {},
   "outputs": [
    {
     "data": {
      "text/plain": [
       "3"
      ]
     },
     "execution_count": 7,
     "metadata": {},
     "output_type": "execute_result"
    }
   ],
   "source": [
    "iterative_ways(coins, n, 5)\n"
   ]
  },
  {
   "cell_type": "code",
   "execution_count": null,
   "metadata": {},
   "outputs": [],
   "source": []
  }
 ],
 "metadata": {
  "kernelspec": {
   "display_name": "Python 3",
   "language": "python",
   "name": "python3"
  },
  "language_info": {
   "codemirror_mode": {
    "name": "ipython",
    "version": 3
   },
   "file_extension": ".py",
   "mimetype": "text/x-python",
   "name": "python",
   "nbconvert_exporter": "python",
   "pygments_lexer": "ipython3",
   "version": "3.7.1"
  }
 },
 "nbformat": 4,
 "nbformat_minor": 2
}
