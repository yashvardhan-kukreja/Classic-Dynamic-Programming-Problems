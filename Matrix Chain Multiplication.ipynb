{
 "cells": [
  {
   "cell_type": "markdown",
   "metadata": {},
   "source": [
    "# Matrix Chain Multiplication"
   ]
  },
  {
   "cell_type": "markdown",
   "metadata": {},
   "source": [
    "## Introduction"
   ]
  },
  {
   "cell_type": "markdown",
   "metadata": {},
   "source": [
    "Given an array denoting the sizes of some matrices. <br>\n",
    "\n",
    "In what way, one can organise parentheses around them such that when they are multiplied, the entire multiplication is least expensive or causes the least cost. <br>\n",
    "\n",
    "Cost of multiplying Matrix A (i x j) and Matrix B (j x k) = i x j x k\n",
    "\n",
    "Example of input, <br>\n",
    "Array  = [40, 20, 30, 10, 30]\n",
    "\n",
    "Matrix A = 40 x 20<br>\n",
    "Matrix B = 20 x 30<br>\n",
    "Matrix C = 30 x 10<br>\n",
    "Matrix D = 10 x 30<br>"
   ]
  },
  {
   "cell_type": "code",
   "execution_count": 66,
   "metadata": {},
   "outputs": [],
   "source": [
    "def solve(arr, start, end):\n",
    "    if start >= end:\n",
    "        return 0\n",
    "    min_cost = 99999999999999999999999999\n",
    "    for k in range(start, end):\n",
    "        temp = solve(arr, start, k) + solve(arr, k+1, end) + arr[start-1]*arr[k]*arr[end]\n",
    "        min_cost = min(temp, min_cost)\n",
    "    return min_cost"
   ]
  },
  {
   "cell_type": "code",
   "execution_count": 67,
   "metadata": {},
   "outputs": [],
   "source": [
    "integers = [40, 20, 30, 10, 30]\n",
    "n = len(integers)"
   ]
  },
  {
   "cell_type": "code",
   "execution_count": 68,
   "metadata": {},
   "outputs": [
    {
     "data": {
      "text/plain": [
       "26000"
      ]
     },
     "execution_count": 68,
     "metadata": {},
     "output_type": "execute_result"
    }
   ],
   "source": [
    "solve(integers, 1, n-1)"
   ]
  },
  {
   "cell_type": "code",
   "execution_count": null,
   "metadata": {},
   "outputs": [],
   "source": []
  }
 ],
 "metadata": {
  "kernelspec": {
   "display_name": "Python 3",
   "language": "python",
   "name": "python3"
  },
  "language_info": {
   "codemirror_mode": {
    "name": "ipython",
    "version": 3
   },
   "file_extension": ".py",
   "mimetype": "text/x-python",
   "name": "python",
   "nbconvert_exporter": "python",
   "pygments_lexer": "ipython3",
   "version": "3.7.1"
  }
 },
 "nbformat": 4,
 "nbformat_minor": 2
}
