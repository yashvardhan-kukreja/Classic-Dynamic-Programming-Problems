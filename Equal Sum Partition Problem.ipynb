{
 "cells": [
  {
   "cell_type": "markdown",
   "metadata": {},
   "source": [
    "# Equal Sum Partition Problem:"
   ]
  },
  {
   "cell_type": "markdown",
   "metadata": {},
   "source": [
    "## Introduction"
   ]
  },
  {
   "cell_type": "markdown",
   "metadata": {},
   "source": [
    "An array of integers is given.<br>\n",
    "You have to find whether it is possible to divide the array into two partitons where the sum of elements in partition 1 = sum of elements in partition 2"
   ]
  },
  {
   "cell_type": "markdown",
   "metadata": {},
   "source": [
    "## Time for the fantastic approach to it"
   ]
  },
  {
   "cell_type": "markdown",
   "metadata": {},
   "source": [
    "So, let's read the problem again,\n",
    "\n",
    "there is an array of integers<br>\n",
    "and it is broken into two partitions -> part1 and part2\n",
    "\n",
    "sum(part1) -> sum of elements in part1 <br> \n",
    "sum(part2) -> sum of elements in part2\n",
    "\n",
    "Now, let sum(part1) = sum(part2) = S\n",
    "\n",
    "Now, part1 and part2 are separate partitions of array of integers.<br>\n",
    "meaning that, sum(part1) + sum(part2) = sum(array of integers)\n",
    "\n",
    "So, 2S = sum(array of integers)<br>\n",
    "Meaning, S = sum(array of integers)/2\n",
    "\n",
    "That's it, this means that we have to find whether there is a partition (or a subset ;) ) which exists in the main array of integers whose sum of elements = S = sum(array of integers)/2\n",
    "\n",
    "------------------------------- EXAMPLE -----------------------------------\n",
    "\n",
    "For example, if there is an array of integers = [1, 5, 5, 11]<br>\n",
    "Then, sum(array of integers) = 22<br>\n",
    "        S = sum(array of integers)/2 = 11\n",
    "        \n",
    "So, we have to find whether there is a subset possible in the given array of integers whose sum is 11.\n"
   ]
  },
  {
   "cell_type": "markdown",
   "metadata": {},
   "source": [
    "### Rest is \"exactly\" same as done in \"Subset Sum Problem\" :)"
   ]
  },
  {
   "cell_type": "markdown",
   "metadata": {},
   "source": [
    "## Let's code (\"Just\" code this time XD)"
   ]
  },
  {
   "cell_type": "markdown",
   "metadata": {},
   "source": [
    "### (For the explanations regarding the code, check out the notebook explaining \"Subset Sum Problem\")"
   ]
  },
  {
   "cell_type": "markdown",
   "metadata": {},
   "source": [
    "### Setting up the inputs"
   ]
  },
  {
   "cell_type": "code",
   "execution_count": 63,
   "metadata": {},
   "outputs": [],
   "source": [
    "n = 4\n",
    "integers = [1, 5, 11, 5]"
   ]
  },
  {
   "cell_type": "markdown",
   "metadata": {},
   "source": [
    "### Recursive solution:"
   ]
  },
  {
   "cell_type": "code",
   "execution_count": 66,
   "metadata": {},
   "outputs": [],
   "source": [
    "def subset_sum_exists(integers, n, target_sum):\n",
    "    if target_sum==0:\n",
    "        return True\n",
    "    elif n==0:\n",
    "        return False\n",
    "    else:\n",
    "        current_int = integers[n-1]\n",
    "        if current_int <= target_sum:\n",
    "            return subset_sum_exists(integers, n-1, target_sum-current_int) or partition_exists(integers, n-1, target_sum)\n",
    "        else:\n",
    "            return subset_sum_exists(integers, n-1, target_sum)\n",
    "\n",
    "def partitions_possible(integers, n):\n",
    "    target_sum = sum(integers)/2\n",
    "    if sum(integers)%2 != 0:\n",
    "        return False\n",
    "    else:\n",
    "        return subset_sum_exists(integers, n, target_sum)"
   ]
  },
  {
   "cell_type": "code",
   "execution_count": 67,
   "metadata": {},
   "outputs": [
    {
     "data": {
      "text/plain": [
       "True"
      ]
     },
     "execution_count": 67,
     "metadata": {},
     "output_type": "execute_result"
    }
   ],
   "source": [
    "partitions_possible(integers, n)"
   ]
  },
  {
   "cell_type": "markdown",
   "metadata": {},
   "source": [
    "### Memoized Approach:"
   ]
  },
  {
   "cell_type": "code",
   "execution_count": 84,
   "metadata": {},
   "outputs": [],
   "source": [
    "def memoized_subset_sum_exists(integers, n, target_sum, history):\n",
    "    if target_sum == 0:\n",
    "        history[n][target_sum] = True\n",
    "        return history[n][target_sum]\n",
    "    elif n == 0:\n",
    "        history[n][target_sum] = False\n",
    "        return history[n][target_sum]\n",
    "    else:\n",
    "        if history[n][target_sum] != -1:\n",
    "            return history[n][target_sum]\n",
    "        else:\n",
    "            current_int = integers[n-1]\n",
    "            if current_int <= target_sum:\n",
    "                history[n][target_sum] = memoized_subset_sum_exists(integers, n-1, target_sum-current_int, history) or subset_sum_exists(integers, n-1, target_sum, history)\n",
    "                return history[n][target_sum]\n",
    "            else:\n",
    "                history[n][target_sum] = memoized_subset_sum_exists(integers, n-1, target_sum, history)\n",
    "                return history[n][target_sum]\n",
    "        \n",
    "def memoized_partitions_possible(integers, n):\n",
    "    target_sum = sum(integers)/2\n",
    "    if sum(integers)%2 != 0:\n",
    "        return False\n",
    "    else:\n",
    "        target_sum = int(target_sum)\n",
    "        history = [[-1 for j in range(int(target_sum)+1)] for i in range(n+1)]\n",
    "        return memoized_subset_sum_exists(integers, n, target_sum, history)"
   ]
  },
  {
   "cell_type": "code",
   "execution_count": 85,
   "metadata": {},
   "outputs": [
    {
     "data": {
      "text/plain": [
       "True"
      ]
     },
     "execution_count": 85,
     "metadata": {},
     "output_type": "execute_result"
    }
   ],
   "source": [
    "memoized_partitions_possible(integers, n)"
   ]
  },
  {
   "cell_type": "markdown",
   "metadata": {},
   "source": [
    "### Iterative Approach:"
   ]
  },
  {
   "cell_type": "code",
   "execution_count": 86,
   "metadata": {},
   "outputs": [],
   "source": [
    "def iterative_subset_sum_exists(integers, n, target_sum, sub_solutions):\n",
    "    for i in range(0, n+1):\n",
    "        for j in range(0, target_sum+1):\n",
    "            if j==0:\n",
    "                sub_solutions[i][j] = True\n",
    "            elif i==0:\n",
    "                sub_solutions[i][j] = False\n",
    "            else:\n",
    "                current_int = integers[i-1]\n",
    "                if current_int <= j:\n",
    "                    sub_solutions[i][j] = sub_solutions[i-1][j-current_int] or sub_solutions[i-1][j]\n",
    "                else:\n",
    "                    sub_solutions[i][j] = sub_solutions[i-1][j]\n",
    "    return sub_solutions[n][target_sum]\n",
    "\n",
    "def iterative_partitions_possible(integers, n):\n",
    "    target_sum = sum(integers)/2\n",
    "    if sum(integers)%2 != 0:\n",
    "        return False\n",
    "    else:\n",
    "        target_sum = int(target_sum)\n",
    "        sub_solutions = [[-1 for j in range(target_sum+1)] for i in range(n+1)]\n",
    "        return iterative_subset_sum_exists(integers, n, target_sum, sub_solutions)"
   ]
  },
  {
   "cell_type": "code",
   "execution_count": 87,
   "metadata": {},
   "outputs": [
    {
     "data": {
      "text/plain": [
       "True"
      ]
     },
     "execution_count": 87,
     "metadata": {},
     "output_type": "execute_result"
    }
   ],
   "source": [
    "iterative_partitions_possible(integers, n)"
   ]
  },
  {
   "cell_type": "code",
   "execution_count": null,
   "metadata": {},
   "outputs": [],
   "source": []
  }
 ],
 "metadata": {
  "kernelspec": {
   "display_name": "Python 3",
   "language": "python",
   "name": "python3"
  },
  "language_info": {
   "codemirror_mode": {
    "name": "ipython",
    "version": 3
   },
   "file_extension": ".py",
   "mimetype": "text/x-python",
   "name": "python",
   "nbconvert_exporter": "python",
   "pygments_lexer": "ipython3",
   "version": "3.7.1"
  }
 },
 "nbformat": 4,
 "nbformat_minor": 2
}
