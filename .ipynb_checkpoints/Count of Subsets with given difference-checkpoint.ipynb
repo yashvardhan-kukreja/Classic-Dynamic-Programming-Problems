{
 "cells": [
  {
   "cell_type": "markdown",
   "metadata": {},
   "source": [
    "# Count of subset-pairs with the given difference\n"
   ]
  },
  {
   "cell_type": "markdown",
   "metadata": {},
   "source": [
    "## Introduction"
   ]
  },
  {
   "cell_type": "markdown",
   "metadata": {},
   "source": [
    "You are given an array of integers and a target integer value.<br>\n",
    "You have to find how many combinations are possible where two subsets/partitions of the array can be formed and the difference between sums of elements of those subsets = the given target value"
   ]
  },
  {
   "cell_type": "code",
   "execution_count": 25,
   "metadata": {},
   "outputs": [],
   "source": [
    "def iterative_subset_sum_cnt(integers, n, target_sum, sub_solutions, target_diff):\n",
    "    for i in range(n+1):\n",
    "        for j in range(target_sum+1):\n",
    "            if j==0:\n",
    "                sub_solutions[i][j] = 1\n",
    "            elif i==0:\n",
    "                sub_solutions[i][j] = 0\n",
    "            else:\n",
    "                current_int = integers[i-1]\n",
    "                if current_int <= j:\n",
    "                    sub_solutions[i][j] = sub_solutions[i-1][j-current_int] + sub_solutions[i-1][j]                    \n",
    "                else:\n",
    "                    sub_solutions[i][j] = sub_solutions[i-1][j]\n",
    "    \n",
    "    output = 0\n",
    "    min_sum = 0\n",
    "    max_sum = sum(integers)\n",
    "    \n",
    "    full_range = sum(integers) - min_sum\n",
    "    if full_range%2 == 0:\n",
    "        middle_sum = int(full_range/2)\n",
    "    else:\n",
    "        middle_sum = int((full_range-1)/2)\n",
    "    \n",
    "    for current_sum_to_check in range(0, middle_sum+1):\n",
    "        if ((full_range - current_sum_to_check) - current_sum_to_check) == target_diff:\n",
    "            output = sub_solutions[n][current_sum_to_check]\n",
    "            break\n",
    "    \n",
    "    return output"
   ]
  },
  {
   "cell_type": "code",
   "execution_count": 42,
   "metadata": {},
   "outputs": [],
   "source": [
    "integers = [1, 1, 2, 3]\n",
    "n = len(integers)\n",
    "full_range = sum(integers) - 0\n",
    "target_diff = 1\n",
    "sub_solutions = [[-1 for j in range(full_range+1)] for i in range(n+1)]"
   ]
  },
  {
   "cell_type": "code",
   "execution_count": 43,
   "metadata": {},
   "outputs": [
    {
     "data": {
      "text/plain": [
       "3"
      ]
     },
     "execution_count": 43,
     "metadata": {},
     "output_type": "execute_result"
    }
   ],
   "source": [
    "iterative_subset_sum_cnt(integers, n, full_range, sub_solutions, target_diff)"
   ]
  },
  {
   "cell_type": "code",
   "execution_count": 44,
   "metadata": {},
   "outputs": [],
   "source": [
    "sub_solutions = [[-1 for j in range(int((full_range+target_diff)/2)+1)] for i in range(n+1)]"
   ]
  },
  {
   "cell_type": "code",
   "execution_count": 45,
   "metadata": {},
   "outputs": [
    {
     "data": {
      "text/plain": [
       "3"
      ]
     },
     "execution_count": 45,
     "metadata": {},
     "output_type": "execute_result"
    }
   ],
   "source": [
    "iterative_subset_sum_cnt(integers, n, int((full_range+target_diff)/2), sub_solutions, target_diff)"
   ]
  },
  {
   "cell_type": "code",
   "execution_count": 46,
   "metadata": {},
   "outputs": [
    {
     "data": {
      "text/plain": [
       "3"
      ]
     },
     "execution_count": 46,
     "metadata": {},
     "output_type": "execute_result"
    }
   ],
   "source": [
    "sub_solutions[n][int((full_range+target_diff)/2)]"
   ]
  },
  {
   "cell_type": "code",
   "execution_count": null,
   "metadata": {},
   "outputs": [],
   "source": []
  }
 ],
 "metadata": {
  "kernelspec": {
   "display_name": "Python 3",
   "language": "python",
   "name": "python3"
  },
  "language_info": {
   "codemirror_mode": {
    "name": "ipython",
    "version": 3
   },
   "file_extension": ".py",
   "mimetype": "text/x-python",
   "name": "python",
   "nbconvert_exporter": "python",
   "pygments_lexer": "ipython3",
   "version": "3.7.1"
  }
 },
 "nbformat": 4,
 "nbformat_minor": 2
}
