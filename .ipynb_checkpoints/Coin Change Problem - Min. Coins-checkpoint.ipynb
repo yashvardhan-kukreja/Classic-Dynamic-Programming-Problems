{
 "cells": [
  {
   "cell_type": "markdown",
   "metadata": {},
   "source": [
    "# Coin Change Problem - Min. number of coins"
   ]
  },
  {
   "cell_type": "markdown",
   "metadata": {},
   "source": [
    "## Introduction"
   ]
  },
  {
   "cell_type": "markdown",
   "metadata": {},
   "source": [
    "Given an array of coins and a target to achieve<br>\n",
    "Determine the minimum number of coins required to achieve that target<br>\n",
    "Note: Assuming that the supply of every coin is unlimited<br>"
   ]
  },
  {
   "cell_type": "code",
   "execution_count": 9,
   "metadata": {},
   "outputs": [],
   "source": [
    "def coins_required(coins, n, target):\n",
    "    if target == 0:\n",
    "        return 0\n",
    "    elif n == 0:\n",
    "        return 10000000000000\n",
    "    else:\n",
    "        current = coins[n-1]\n",
    "        if current <= target:\n",
    "            return min(1+coins_required(coins, n, target-current), coins_required(coins, n-1,target))\n",
    "        else:\n",
    "            return coins_required(coins, n-1, target)\n",
    "\n",
    "def iterative_coins_required(coins, n, target):\n",
    "    sub_solutions = [[-1 for j in range(target+1)] for i in range(n+1)]\n",
    "    for i in range(n+1):\n",
    "        for j in range(target+1):\n",
    "            if j==0:\n",
    "                sub_solutions[i][j] = 0\n",
    "            elif i==0:\n",
    "                sub_solutions[i][j] = 1000000000000\n",
    "            else:\n",
    "                current = coins[i-1]\n",
    "                if current <= j:\n",
    "                    sub_solutions[i][j] = min(1+sub_solutions[i][j-current], sub_solutions[i-1][j])\n",
    "                else:\n",
    "                    sub_solutions[i][j] = sub_solutions[i-1][j]\n",
    "    return sub_solutions[n][target]"
   ]
  },
  {
   "cell_type": "code",
   "execution_count": 10,
   "metadata": {},
   "outputs": [],
   "source": [
    "coins = [1, 2, 3]\n",
    "n = len(coins)\n",
    "target = 5"
   ]
  },
  {
   "cell_type": "code",
   "execution_count": 11,
   "metadata": {},
   "outputs": [
    {
     "data": {
      "text/plain": [
       "2"
      ]
     },
     "execution_count": 11,
     "metadata": {},
     "output_type": "execute_result"
    }
   ],
   "source": [
    "coins_required(coins, n, target)"
   ]
  },
  {
   "cell_type": "code",
   "execution_count": 12,
   "metadata": {},
   "outputs": [
    {
     "data": {
      "text/plain": [
       "2"
      ]
     },
     "execution_count": 12,
     "metadata": {},
     "output_type": "execute_result"
    }
   ],
   "source": [
    "iterative_coins_required(coins, n, target)"
   ]
  },
  {
   "cell_type": "code",
   "execution_count": null,
   "metadata": {},
   "outputs": [],
   "source": []
  },
  {
   "cell_type": "code",
   "execution_count": null,
   "metadata": {},
   "outputs": [],
   "source": []
  }
 ],
 "metadata": {
  "kernelspec": {
   "display_name": "Python 3",
   "language": "python",
   "name": "python3"
  },
  "language_info": {
   "codemirror_mode": {
    "name": "ipython",
    "version": 3
   },
   "file_extension": ".py",
   "mimetype": "text/x-python",
   "name": "python",
   "nbconvert_exporter": "python",
   "pygments_lexer": "ipython3",
   "version": "3.7.1"
  }
 },
 "nbformat": 4,
 "nbformat_minor": 2
}
