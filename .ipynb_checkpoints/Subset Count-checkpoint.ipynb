{
 "cells": [
  {
   "cell_type": "markdown",
   "metadata": {},
   "source": [
    "## Subset Sum Count Problem"
   ]
  },
  {
   "cell_type": "markdown",
   "metadata": {},
   "source": [
    "## Introduction:"
   ]
  },
  {
   "cell_type": "markdown",
   "metadata": {},
   "source": [
    "Here, you are given an array of integers and a target sum.<br>\n",
    "You have to find the number of possible subsets where each such subset's sum of elements = target sum"
   ]
  },
  {
   "cell_type": "markdown",
   "metadata": {},
   "source": [
    "### How is it like \"Subset Sum\" problem?\n",
    " You have to find the number of subsets possible whose sum of elements = target sum. <br>\n",
    " The core logic is more or less same as the \"Subset sum\" problem, just the return type is different."
   ]
  },
  {
   "cell_type": "markdown",
   "metadata": {},
   "source": [
    "## Let's Code"
   ]
  },
  {
   "cell_type": "markdown",
   "metadata": {},
   "source": [
    "### Setting up the inputs"
   ]
  },
  {
   "cell_type": "code",
   "execution_count": 14,
   "metadata": {},
   "outputs": [],
   "source": [
    "n = 6\n",
    "integers = [2, 3, 5, 6, 8, 10]\n",
    "target_sum = 10"
   ]
  },
  {
   "cell_type": "markdown",
   "metadata": {},
   "source": [
    "### Recursive approach:"
   ]
  },
  {
   "cell_type": "code",
   "execution_count": 32,
   "metadata": {},
   "outputs": [],
   "source": [
    "def count_subsets(integers, n, target_sum):\n",
    "    if target_sum==0:\n",
    "        return 1\n",
    "    elif n == 0:\n",
    "        return 0\n",
    "    else:\n",
    "        current_item = integers[n-1]\n",
    "        if current_item <= target_sum:\n",
    "            return count_subsets(integers, n-1, target_sum-current_item) + count_subsets(integers, n-1, target_sum)\n",
    "        else:\n",
    "            return count_subsets(integers, n-1, target_sum)"
   ]
  },
  {
   "cell_type": "code",
   "execution_count": 33,
   "metadata": {},
   "outputs": [
    {
     "data": {
      "text/plain": [
       "3"
      ]
     },
     "execution_count": 33,
     "metadata": {},
     "output_type": "execute_result"
    }
   ],
   "source": [
    "final_count = 0\n",
    "count_subsets(integers, n, target_sum)"
   ]
  },
  {
   "cell_type": "code",
   "execution_count": 25,
   "metadata": {},
   "outputs": [],
   "source": [
    "sub_solutions = [[0 for j in range(target_sum+1)] for i in range(n+1)]\n",
    "def count_subsets(integers, n, target_sum, sub_solutions):\n",
    "    for i in range(0, n+1):\n",
    "        for j in range(0, target_sum+1):\n",
    "            if j==0:\n",
    "                sub_solutions[i][j] = 1\n",
    "            elif i == 0:\n",
    "                sub_solutions[i][j] = 0\n",
    "            else:\n",
    "                if integers[i-1] <= j:\n",
    "                    sub_solutions[i][j] = sub_solutions[i-1][j-integers[i-1]] + sub_solutions[i-1][j]\n",
    "                else:\n",
    "                    sub_solutions[i][j] = sub_solutions[i-1][j]\n",
    "    return sub_solutions[n][target_sum]"
   ]
  },
  {
   "cell_type": "code",
   "execution_count": 26,
   "metadata": {},
   "outputs": [
    {
     "data": {
      "text/plain": [
       "3"
      ]
     },
     "execution_count": 26,
     "metadata": {},
     "output_type": "execute_result"
    }
   ],
   "source": [
    "count_subsets(integers, n, target_sum, sub_solutions)"
   ]
  },
  {
   "cell_type": "code",
   "execution_count": null,
   "metadata": {},
   "outputs": [],
   "source": []
  }
 ],
 "metadata": {
  "kernelspec": {
   "display_name": "Python 3",
   "language": "python",
   "name": "python3"
  },
  "language_info": {
   "codemirror_mode": {
    "name": "ipython",
    "version": 3
   },
   "file_extension": ".py",
   "mimetype": "text/x-python",
   "name": "python",
   "nbconvert_exporter": "python",
   "pygments_lexer": "ipython3",
   "version": "3.7.1"
  }
 },
 "nbformat": 4,
 "nbformat_minor": 2
}
