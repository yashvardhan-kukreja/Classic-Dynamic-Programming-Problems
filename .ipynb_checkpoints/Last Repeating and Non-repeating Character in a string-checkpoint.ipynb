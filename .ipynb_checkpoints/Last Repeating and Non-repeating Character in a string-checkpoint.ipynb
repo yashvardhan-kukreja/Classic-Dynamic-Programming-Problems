{
 "cells": [
  {
   "cell_type": "markdown",
   "metadata": {},
   "source": [
    "# Last Repeating and Non-Repeating Character in a string"
   ]
  },
  {
   "cell_type": "markdown",
   "metadata": {},
   "source": [
    "## Introduction"
   ]
  },
  {
   "cell_type": "markdown",
   "metadata": {},
   "source": [
    "Given a string s. Find the last character which occurs more than once in the string.\n",
    "\n",
    "For example, <br>\n",
    "s = \"horizon tutorials\"\n",
    "\n",
    "output = \"i\" and \"s\"<br>\n",
    "Because although even \"o\" and \"t\" are also repeating. Still if we look towards the end, \"i\" is the last repeating character in the string and \"s\" is the non-repeating character."
   ]
  },
  {
   "cell_type": "code",
   "execution_count": 68,
   "metadata": {},
   "outputs": [],
   "source": [
    "def last_repeating_character(s):\n",
    "    char_map = {}\n",
    "    for char in s:\n",
    "        char_map[char] = 0\n",
    "    \n",
    "    for char in s:\n",
    "        char_map[char] += 1\n",
    "        \n",
    "    output  = \"No repeating character found\"\n",
    "    for char in s:\n",
    "        if char_map[char] > 1:\n",
    "            output = char\n",
    "    return output\n",
    "\n",
    "def last_non_repeating_character(s):\n",
    "    char_map = {}\n",
    "    for char in s:\n",
    "        char_map[char] = 0\n",
    "        \n",
    "    for char in s:\n",
    "        char_map[char] += 1\n",
    "        \n",
    "    output = \"No non-repeating character found\"\n",
    "    for char in s:\n",
    "        if char_map[char] == 1:\n",
    "            output = char\n",
    "    return output\n",
    "\n"
   ]
  },
  {
   "cell_type": "code",
   "execution_count": 70,
   "metadata": {},
   "outputs": [
    {
     "name": "stdout",
     "output_type": "stream",
     "text": [
      "Last Repeating Character: i\n",
      "Last Non-Repeating Character: s\n"
     ]
    }
   ],
   "source": [
    "s = \"horizon tutorials\"\n",
    "print (\"Last Repeating Character: {}\\nLast Non-Repeating Character: {}\".format(last_repeating_character(s), last_non_repeating_character(s)))"
   ]
  }
 ],
 "metadata": {
  "kernelspec": {
   "display_name": "Python 3",
   "language": "python",
   "name": "python3"
  },
  "language_info": {
   "codemirror_mode": {
    "name": "ipython",
    "version": 3
   },
   "file_extension": ".py",
   "mimetype": "text/x-python",
   "name": "python",
   "nbconvert_exporter": "python",
   "pygments_lexer": "ipython3",
   "version": "3.7.1"
  }
 },
 "nbformat": 4,
 "nbformat_minor": 2
}
