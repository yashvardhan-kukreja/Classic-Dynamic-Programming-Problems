{
 "cells": [
  {
   "cell_type": "markdown",
   "metadata": {},
   "source": [
    "# Possible combination of expressions to achieve target sum problem"
   ]
  },
  {
   "cell_type": "markdown",
   "metadata": {},
   "source": [
    "## Introduction"
   ]
  },
  {
   "cell_type": "markdown",
   "metadata": {},
   "source": [
    "Here, you are given an array of integers and a target value say \"target\".<br>\n",
    "You have to find number of ways in which \"-\" or \"+\" can be added to each number so that the resulting expression will mathematically result in \"target\".\n",
    "\n",
    "For example,\n",
    "\n",
    "array = [1, 2, 1, 3]\n",
    "target = 1\n",
    "\n",
    "Now, there can be such expression-al combinations like -1-2+1+3 and 1-2-1+3 whose output will be 1 => target.<br>\n",
    "Here, two such combinations were possible hence, the output is 2.\n",
    "\n",
    "So, you have to return such output."
   ]
  },
  {
   "cell_type": "markdown",
   "metadata": {},
   "source": [
    "## My approach"
   ]
  },
  {
   "cell_type": "markdown",
   "metadata": {},
   "source": [
    "This question looks overly-complex but the sweet thing about overly complex questions is that there HAS to be something which will make it much easier because there's nothing OVERLY COMPLEX.\n",
    "\n",
    "There's gotta be a catch. So, let's dig it!\n",
    "\n",
    "So, let's take the above example....\n",
    "\n",
    "array = [1, 2, 1, 3]<br>\n",
    "target = 1\n",
    "\n",
    "And one of the output = -1-2+1+3\n",
    "\n",
    "So, looking at the output, we can see that all integers will either be prepended with a \"-\" or \"+\" sign, nothing else.\n",
    "\n",
    "So, we can categorise them into sets:<br>\n",
    "Category A -> integers prepended with negative signs (-1, -2)<br>\n",
    "category B -> integers prepended with positive signs (+1, +3)\n",
    "\n",
    "And, we can say that, **target = Sum of Integers belonging to Cateogory A + Sum of Integers belonging to Category B**\n",
    "\n",
    "Now, \n",
    "\n",
    "-1-2+1+3 = -(1+2) + (1+3) = (1+3) - (1+2)\n",
    "\n",
    "Notice, there are two partitions whose difference = target.\n",
    "\n",
    "Again, in 1-2-1+3,<br>\n",
    "1-2-1+3 = 1+3-2-1 = (1+3) - (2+1), another set of two partitions whose difference = target.\n",
    "\n",
    "So, basically, we have to find the number of (S1, S2) pairs who cause S1 - S2 = target\n",
    "\n",
    "Which is basically the subset difference problem.\n",
    "\n",
    "So, S1 - S2 = target<br>\n",
    "now, S1 + S2 = sum(array)<br>\n",
    "\n",
    "So, 2*(S1) = target+sum(array)<br>\n",
    "S1 = (target + sum(array))/2\n",
    "\n",
    "Hence, we gotta find the count of subsets possible with the sum of S1. That's it!\n",
    "\n",
    "See, such a seemingly overly complex got reduced down to a simple problem of finding count of subsets with a target sum of elements. That's it!"
   ]
  },
  {
   "cell_type": "code",
   "execution_count": 16,
   "metadata": {},
   "outputs": [],
   "source": [
    "def count_subsets(integers, n, target_subset_sum):\n",
    "    if target_subset_sum==0:\n",
    "        return 1\n",
    "    elif n==0:\n",
    "        return 0\n",
    "    else:\n",
    "        current_int = integers[n-1]\n",
    "        if current_int <= target_subset_sum:\n",
    "            return count_subsets(integers, n-1, target_subset_sum-current_int) + count_subsets(integers, n-1, target_subset_sum)\n",
    "        else:\n",
    "            return count_subsets(integers, n-1, target_subset_sum)\n",
    "        \n",
    "def iterative_count_subsets(integers, n, target_subset_sum, sub_solutions):\n",
    "    for i in range(0, n+1):\n",
    "        for j in range(0, target_subset_sum+1):\n",
    "            if j==0:\n",
    "                sub_solutions[i][j] = 1\n",
    "            elif i==0:\n",
    "                sub_solutions[i][j] = 0\n",
    "            else:\n",
    "                current_int = integers[i-1]\n",
    "                if current_int <= j:\n",
    "                    sub_solutions[i][j] = sub_solutions[i-1][j-current_int] + sub_solutions[i-1][j]\n",
    "                else:\n",
    "                    sub_solutions[i][j] = sub_solutions[i-1][j]\n",
    "    return sub_solutions[n][target_subset_sum]\n",
    "    \n",
    "def main(integers, target_result):\n",
    "    n = len(integers)\n",
    "    sum_arr = sum(integers)\n",
    "    if (target_result+sum_arr)%2 != 0:\n",
    "        return 0\n",
    "    else:\n",
    "        target_subset_sum = int((target_result + sum(integers))/2)\n",
    "    \n",
    "    sub_solutions = [[-1 for j in range(target_subset_sum+1)] for i in range(n+1)]\n",
    "    for i in range(0, n+1):\n",
    "        for j in range(0, target_subset_sum+1):\n",
    "            if j==0:\n",
    "                sub_solutions[i][j] = 1\n",
    "            elif i==0:\n",
    "                sub_solutions[i][j] = 0\n",
    "            else:\n",
    "                current_int = integers[i-1]\n",
    "                if current_int <= j:\n",
    "                    sub_solutions[i][j] = sub_solutions[i-1][j-current_int] + sub_solutions[i-1][j]\n",
    "                else:\n",
    "                    sub_solutions[i][j] = sub_solutions[i-1][j]\n",
    "                    \n",
    "    return sub_solutions[n][target_subset_sum]    "
   ]
  },
  {
   "cell_type": "code",
   "execution_count": 15,
   "metadata": {},
   "outputs": [
    {
     "data": {
      "text/plain": [
       "0"
      ]
     },
     "execution_count": 15,
     "metadata": {},
     "output_type": "execute_result"
    }
   ],
   "source": [
    "integers = [2, 3, 1]\n",
    "target = 8\n",
    "\n",
    "main(integers, target)"
   ]
  },
  {
   "cell_type": "code",
   "execution_count": null,
   "metadata": {},
   "outputs": [],
   "source": []
  }
 ],
 "metadata": {
  "kernelspec": {
   "display_name": "Python 3",
   "language": "python",
   "name": "python3"
  },
  "language_info": {
   "codemirror_mode": {
    "name": "ipython",
    "version": 3
   },
   "file_extension": ".py",
   "mimetype": "text/x-python",
   "name": "python",
   "nbconvert_exporter": "python",
   "pygments_lexer": "ipython3",
   "version": "3.7.1"
  }
 },
 "nbformat": 4,
 "nbformat_minor": 2
}
