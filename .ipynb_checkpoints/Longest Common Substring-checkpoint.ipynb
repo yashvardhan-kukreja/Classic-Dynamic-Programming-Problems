{
 "cells": [
  {
   "cell_type": "markdown",
   "metadata": {},
   "source": [
    "# Longest Common Substring"
   ]
  },
  {
   "cell_type": "markdown",
   "metadata": {},
   "source": [
    "## Introduction"
   ]
  },
  {
   "cell_type": "markdown",
   "metadata": {},
   "source": [
    "Given two strings a and b. <br>\n",
    "Find the length of the longest common substring in them <br>"
   ]
  },
  {
   "cell_type": "code",
   "execution_count": 107,
   "metadata": {},
   "outputs": [],
   "source": [
    "def solve(a, b, n, m, count):\n",
    "    if n==0 or m==0:\n",
    "        return count\n",
    "    else:\n",
    "        if a[n-1] == b[m-1]:\n",
    "            count = 1 + solve(a, b, n-1, m-1, count+1)\n",
    "        count = max(count, solve(a, b, n-1, m, 0), solve(a, b, n, m-1, 0))\n",
    "        return count\n",
    "    \n",
    "def iterative_solve(a, b, n, m):\n",
    "    max_till_now = 0\n",
    "    max_coordinates = [0, 0]\n",
    "    sub_solutions = [[-1 for j in range(m+1)] for i in range(n+1)]\n",
    "    for i in range(n+1):\n",
    "        for j in range(m+1):\n",
    "            if i==0 or j==0:\n",
    "                sub_solutions[i][j] = 0\n",
    "            else:\n",
    "                if a[i-1] == b[j-1]:\n",
    "                    sub_solutions[i][j] = 1 + sub_solutions[i-1][j-1]\n",
    "                    if sub_solutions[i][j] > max_till_now:\n",
    "                        max_till_now = sub_solutions[i][j]\n",
    "                        max_coordinates = [i, j]\n",
    "                else:\n",
    "                    sub_solutions[i][j] = 0\n",
    "    return max_coordinates, max_till_now, sub_solutions\n",
    "\n",
    "def find_lcs(first_string, max_coordinates, max_len):\n",
    "    i_coord = max_coordinates[0]\n",
    "    return first_string[i_coord-max_len:i_coord]\n",
    "\n",
    "def find_all_lcs(first_string, sub_solutions, max_len):\n",
    "    all_lcs = []\n",
    "    \n",
    "    for i in range(len(sub_solutions)):\n",
    "        for j in range(len(sub_solutions[0])):\n",
    "            if sub_solutions[i][j] == max_len:\n",
    "                all_lcs.append(a[i-max_len:i])\n",
    "    \n",
    "    return all_lcs\n",
    "    "
   ]
  },
  {
   "cell_type": "code",
   "execution_count": 108,
   "metadata": {},
   "outputs": [],
   "source": [
    "a = \"abcdcdef\"\n",
    "b = \"abcxdef\"\n",
    "n = len(a)\n",
    "m = len(b)"
   ]
  },
  {
   "cell_type": "code",
   "execution_count": 109,
   "metadata": {},
   "outputs": [
    {
     "data": {
      "text/plain": [
       "9"
      ]
     },
     "execution_count": 109,
     "metadata": {},
     "output_type": "execute_result"
    }
   ],
   "source": [
    "count = 0\n",
    "solve(a, b, n, m, count)"
   ]
  },
  {
   "cell_type": "code",
   "execution_count": 110,
   "metadata": {},
   "outputs": [
    {
     "name": "stdout",
     "output_type": "stream",
     "text": [
      "Length of the Longest Common Substring is: 3\n",
      "And the Longest Common Substrings are: abc, def\n"
     ]
    }
   ],
   "source": [
    "max_coordinates, max_len, sol = iterative_solve(a, b, n, m)\n",
    "all_lcs = find_all_lcs(a, sol, max_len)\n",
    "print (\"Length of the Longest Common Substring is: {}\\nAnd the Longest Common Substrings are: {}\".format(max_len, \", \".join(all_lcs)))"
   ]
  }
 ],
 "metadata": {
  "kernelspec": {
   "display_name": "Python 3",
   "language": "python",
   "name": "python3"
  },
  "language_info": {
   "codemirror_mode": {
    "name": "ipython",
    "version": 3
   },
   "file_extension": ".py",
   "mimetype": "text/x-python",
   "name": "python",
   "nbconvert_exporter": "python",
   "pygments_lexer": "ipython3",
   "version": "3.7.1"
  }
 },
 "nbformat": 4,
 "nbformat_minor": 2
}
