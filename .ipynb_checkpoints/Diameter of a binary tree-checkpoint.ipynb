{
 "cells": [
  {
   "cell_type": "markdown",
   "metadata": {},
   "source": [
    "# Diameter of a binary tree"
   ]
  },
  {
   "cell_type": "markdown",
   "metadata": {},
   "source": [
    "## Introduction"
   ]
  },
  {
   "cell_type": "markdown",
   "metadata": {},
   "source": [
    "Given a binary tree (the root node). Find the length of the longest possible path (number of branches/edges) from a leaf node to another leaf node."
   ]
  },
  {
   "cell_type": "code",
   "execution_count": 5,
   "metadata": {},
   "outputs": [
    {
     "data": {
      "text/plain": [
       "0"
      ]
     },
     "execution_count": 5,
     "metadata": {},
     "output_type": "execute_result"
    }
   ],
   "source": [
    "ans = 0\n",
    "def max_path(root):\n",
    "    global ans\n",
    "    if root is None:\n",
    "        return 0\n",
    "    max_path_from_left_subtree = max_path(root.left)\n",
    "    max_path_from_right_subtree = max_path(root.right)\n",
    "    current_potential_ans = max_path_from_left_subtree + max_path_from_right_subtree\n",
    "    #### Updating the global ans variable if the current possible path can prove to be maximum path\n",
    "    if current_potential_ans > ans:\n",
    "        ans = current_potential_ans\n",
    "    #### and returning the max_path possible if the current node \"root\" is a child\n",
    "    return 1 + max(max_path_from_left_subtree, max_path_from_right_subtree)\n",
    "####\n",
    "return ans"
   ]
  }
 ],
 "metadata": {
  "kernelspec": {
   "display_name": "Python 3",
   "language": "python",
   "name": "python3"
  },
  "language_info": {
   "codemirror_mode": {
    "name": "ipython",
    "version": 3
   },
   "file_extension": ".py",
   "mimetype": "text/x-python",
   "name": "python",
   "nbconvert_exporter": "python",
   "pygments_lexer": "ipython3",
   "version": "3.7.1"
  }
 },
 "nbformat": 4,
 "nbformat_minor": 2
}
