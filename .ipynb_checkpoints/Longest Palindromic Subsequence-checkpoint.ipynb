{
 "cells": [
  {
   "cell_type": "markdown",
   "metadata": {},
   "source": [
    "# Longest Palindromic Subsequece"
   ]
  },
  {
   "cell_type": "markdown",
   "metadata": {},
   "source": [
    "## Introduction"
   ]
  },
  {
   "cell_type": "markdown",
   "metadata": {},
   "source": [
    "Given a string find the length of the longest palindromic subsequence in it.<br>\n",
    "\n",
    "For example, let the string be \"aaxbybzzceaa\"\n",
    "\n",
    "Then, the length of the longest palindromic subsequence is 6 because of \"aabbaa\" in it."
   ]
  },
  {
   "cell_type": "code",
   "execution_count": 60,
   "metadata": {},
   "outputs": [],
   "source": [
    "def lps(a, start, end):\n",
    "    if start>end:\n",
    "        return 0\n",
    "    elif start == end:\n",
    "        return 1\n",
    "    else:\n",
    "        if a[start] == a[end]:\n",
    "            return 2 + lps(a, start+1, end-1)\n",
    "        else:\n",
    "            return max(lps(a, start+1, end), lps(a, start, end-1))\n",
    "\n",
    "def memoized_lps(a, start, end, history):\n",
    "    if start > end:\n",
    "        history[start][end] = 0\n",
    "        return history[start][end]\n",
    "    elif start == end:\n",
    "        history[start][end] = 1\n",
    "        return history[start][end]\n",
    "    else:\n",
    "        if history[start][end] != -1:\n",
    "            return history[start][end]\n",
    "        if a[start] == a[end]:\n",
    "            history[start][end] = 2 + memoized_lps(a, start+1, end-1, history)\n",
    "            return history[start][end]\n",
    "        else:\n",
    "            history[start][end] = max(memoized_lps(a, start+1, end, history), memoized_lps(a, start, end-1, history))\n",
    "            return history[start][end]"
   ]
  },
  {
   "cell_type": "code",
   "execution_count": 69,
   "metadata": {},
   "outputs": [
    {
     "data": {
      "text/plain": [
       "6"
      ]
     },
     "execution_count": 69,
     "metadata": {},
     "output_type": "execute_result"
    }
   ],
   "source": [
    "a = \"aayxbbzdaa\"\n",
    "n = len(a)\n",
    "lps(a, 0, n-1)\n",
    "history = [[-1 for i in range(n+1)] for i in range(n+1)]\n",
    "memoized_lps(a, 0, n-1, history)"
   ]
  },
  {
   "cell_type": "markdown",
   "metadata": {},
   "source": [
    "## A better freaking approach - Using LCS"
   ]
  },
  {
   "cell_type": "markdown",
   "metadata": {},
   "source": [
    "So, apply LCS between the given string and it's reverse. Obviously, that's how a palindrome is constructed right<br>\n",
    "\n",
    "And rest do the same as LCS to get the length and even the palindrome\n",
    "\n",
    "So, above, I was doing start+1 and end-1 for the same normal string, whenever same character striked.\n",
    "\n",
    "But start+1 for normal string is exactly same as end-1 for it's reversed form.\n",
    "\n",
    "And hence, the above approach can be convered to end-1 for the normal string and end-1 for the reversed string whenever same character striked."
   ]
  },
  {
   "cell_type": "code",
   "execution_count": 76,
   "metadata": {},
   "outputs": [],
   "source": [
    "def lcs(a, b, n, m):\n",
    "    if n==0 or m==0:\n",
    "        return 0\n",
    "    else:\n",
    "        if a[n-1] == b[m-1]:\n",
    "            return 1 + lcs(a, b, n-1, m-1)\n",
    "        else:\n",
    "            return max(lcs(a, b, n-1, m), lcs(a, b, n, m-1))\n",
    "        \n",
    "def memoized_lcs(a, b, n, m, history):\n",
    "    if n==0 or m==0:\n",
    "        history[n][m] = 0\n",
    "        return history[n][m]\n",
    "    else:\n",
    "        if history[n][m] != -1:\n",
    "            return history[n][m]\n",
    "        else:\n",
    "            if a[n-1] == b[m-1]:\n",
    "                history[n][m] = 1 + memoized_lcs(a, b, n-1, m-1, history)\n",
    "                return history[n][m]\n",
    "            else:\n",
    "                history[n][m] = max(memoized_lcs(a, b, n-1, m, history), memoized_lcs(a, b, n, m-1, history))\n",
    "                return history[n][m]\n",
    "            \n",
    "def iterative_lcs(a, b, n, m):\n",
    "    sol = [[-1 for j in range(m+1)] for i in range(n+1)]\n",
    "    for i in range(n+1):\n",
    "        for j in range(m+1):\n",
    "            if i==0 or j==0:\n",
    "                sol[i][j] = 0\n",
    "            else:\n",
    "                if a[i-1] == b[j-1]:\n",
    "                    sol[i][j] = 1 + sol[i-1][j-1]\n",
    "                else:\n",
    "                    sol[i][j] = max(sol[i-1][j], sol[i][j-1])\n",
    "    return sol, sol[n][m]\n",
    "\n",
    "def find_lcs(a, b, n, m, sol):\n",
    "    i = n\n",
    "    j = m\n",
    "    output = \"\"\n",
    "    while i>0 and j>0:\n",
    "        if sol[i][j] != sol[i-1][j-1]:\n",
    "            output = b[j-1] + output\n",
    "            i-=1\n",
    "            j-=1\n",
    "        else:\n",
    "            j-=1\n",
    "    return output"
   ]
  },
  {
   "cell_type": "code",
   "execution_count": 77,
   "metadata": {},
   "outputs": [],
   "source": [
    "a = \"aayxbbzdaa\"\n",
    "b = a[::-1]\n",
    "n = len(a)\n",
    "m = len(b)\n",
    "history = [[-1 for j in range(m+1)] for i in range(n+1)]"
   ]
  },
  {
   "cell_type": "code",
   "execution_count": 78,
   "metadata": {},
   "outputs": [
    {
     "data": {
      "text/plain": [
       "6"
      ]
     },
     "execution_count": 78,
     "metadata": {},
     "output_type": "execute_result"
    }
   ],
   "source": [
    "lcs(a, b, n, m)"
   ]
  },
  {
   "cell_type": "code",
   "execution_count": 79,
   "metadata": {},
   "outputs": [
    {
     "data": {
      "text/plain": [
       "6"
      ]
     },
     "execution_count": 79,
     "metadata": {},
     "output_type": "execute_result"
    }
   ],
   "source": [
    "memoized_lcs(a, b, n, m, history)"
   ]
  },
  {
   "cell_type": "code",
   "execution_count": 80,
   "metadata": {},
   "outputs": [
    {
     "name": "stdout",
     "output_type": "stream",
     "text": [
      "6\n",
      "aabbaa\n"
     ]
    }
   ],
   "source": [
    "sol, length = iterative_lcs(a, b, n, m)\n",
    "lps = find_lcs(a, b, n, m, sol)\n",
    "print (length)\n",
    "print (lps)"
   ]
  },
  {
   "cell_type": "code",
   "execution_count": null,
   "metadata": {},
   "outputs": [],
   "source": []
  }
 ],
 "metadata": {
  "kernelspec": {
   "display_name": "Python 3",
   "language": "python",
   "name": "python3"
  },
  "language_info": {
   "codemirror_mode": {
    "name": "ipython",
    "version": 3
   },
   "file_extension": ".py",
   "mimetype": "text/x-python",
   "name": "python",
   "nbconvert_exporter": "python",
   "pygments_lexer": "ipython3",
   "version": "3.7.1"
  }
 },
 "nbformat": 4,
 "nbformat_minor": 2
}
