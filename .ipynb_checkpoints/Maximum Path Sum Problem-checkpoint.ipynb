{
 "cells": [
  {
   "cell_type": "markdown",
   "metadata": {},
   "source": [
    "# Maximum Path Value Sum (From any node to any node) and (From leaf node to leaf node)"
   ]
  },
  {
   "cell_type": "markdown",
   "metadata": {},
   "source": [
    "## Introduction"
   ]
  },
  {
   "cell_type": "markdown",
   "metadata": {},
   "source": [
    "**Part 1 - From Any Node to Any Node**\n",
    "\n",
    "Given a binary tree. There must exist a path from any node to any node which produces the max. value sum when the values of all the nodes in that path are added up.\n",
    "\n",
    "Return the value of that max. sum\n",
    "\n",
    "**Part 2 - From leaf Node to leaf Node**\n",
    "\n",
    "Given a binary tree. There must exist a path from a leaf node to another leaf node which produces the max. value sum when the values of all the nodes in that path are added up.\n",
    "\n",
    "Return the value of that max. sum"
   ]
  },
  {
   "cell_type": "markdown",
   "metadata": {},
   "source": [
    "### Part 1 - From any node to any node"
   ]
  },
  {
   "cell_type": "code",
   "execution_count": 11,
   "metadata": {},
   "outputs": [
    {
     "data": {
      "text/plain": [
       "0"
      ]
     },
     "execution_count": 11,
     "metadata": {},
     "output_type": "execute_result"
    }
   ],
   "source": [
    "max_sum = 0\n",
    "def solve(root):\n",
    "    global max_sum\n",
    "    if root == None:\n",
    "        return -999999999999999999999999\n",
    "    max_value_from_left_subtree = solve(root.left)\n",
    "    max_value_from_right_subtree = solve(root.right)\n",
    "    \n",
    "    ### current_possible_answer -> either include the max_value coming from the subtrees with the current root value\n",
    "    ###                     OR -> don't include the max_value coming from the subtrees (for example, the max_value coming from subtrees is a negative value. Then, it doesn't make sense to add it up to the root.val as it will reduce it further). \n",
    "    ###                     So -> In the latter case, you can simply take the root.val only.\n",
    "    temp_ans = max(root.val + 0,\n",
    "                                 root.val + max(max_value_from_left_subtree, max_value_from_right_subtree))\n",
    "    \n",
    "    #### So, for max_sum, first two arguments in max(...) are obvious\n",
    "    ##### The third is because what if that path is from left subtree to right substree leaf node where root node is current \"root\"\n",
    "    max_sum = max(temp_ans, root.val + max_value_from_left_subtree + max_value_from_right_subtree)\n",
    "    return temp_ans\n",
    "\n",
    "return max_sum"
   ]
  },
  {
   "cell_type": "markdown",
   "metadata": {},
   "source": [
    "### Part 2 - From leaf node to leaf node"
   ]
  },
  {
   "cell_type": "code",
   "execution_count": 12,
   "metadata": {},
   "outputs": [],
   "source": [
    "max_sum = 0\n",
    "def solve(root):\n",
    "    if root is None:\n",
    "        return -999999999999999999999999\n",
    "    global max_sum\n",
    "    max_value_from_left_subtree = solve(root.left)\n",
    "    max_value_from_right_subtree = solve(root.right)\n",
    "    #### Now, we can't store root.val only unlike part 1 because current node is not a leaf node\n",
    "    temp_ans = root.val + max(max_value_from_left_subtree, max_value_from_right_subtree)\n",
    "    #### But what if the current node is a leaf node. Then, we can even store the only value of current node\n",
    "    if root.left is None and root.right is None:\n",
    "            temp_ans = max(root.val+0, temp_ans)\n",
    "    max_sum = max(max_sum, root.val + max_value_from_left_subtree + max_value_from_right_subtree)\n",
    "    return temp_ans"
   ]
  },
  {
   "cell_type": "code",
   "execution_count": null,
   "metadata": {},
   "outputs": [],
   "source": []
  }
 ],
 "metadata": {
  "kernelspec": {
   "display_name": "Python 3",
   "language": "python",
   "name": "python3"
  },
  "language_info": {
   "codemirror_mode": {
    "name": "ipython",
    "version": 3
   },
   "file_extension": ".py",
   "mimetype": "text/x-python",
   "name": "python",
   "nbconvert_exporter": "python",
   "pygments_lexer": "ipython3",
   "version": "3.7.1"
  }
 },
 "nbformat": 4,
 "nbformat_minor": 2
}
