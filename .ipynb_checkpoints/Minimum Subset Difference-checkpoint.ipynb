{
 "cells": [
  {
   "cell_type": "markdown",
   "metadata": {},
   "source": [
    "# Minimum Subset Difference Problem"
   ]
  },
  {
   "cell_type": "markdown",
   "metadata": {},
   "source": [
    "## Introduction"
   ]
  },
  {
   "cell_type": "markdown",
   "metadata": {},
   "source": [
    "You are given an array of integers. <br>\n",
    "Reduce that array into two partitions such that the absolute difference of the sum of elements of the partition is minimum possible value\n",
    "\n",
    "For example, <br>\n",
    "array = [1, 3, 1, 2]\n",
    "\n",
    "one possibility is -> [1, 1] and [3, 2] -> The difference of partitions sums = abs(2-5) = 3\n",
    "\n",
    "Other possibility is -> [1, 3] and [1, 2] -> The difference of partitions sums = abs(4-3) = 1\n",
    "\n",
    "So, the minimum possible such difference = 1.\n",
    "\n",
    "Hence, the output should be 1."
   ]
  },
  {
   "cell_type": "code",
   "execution_count": 36,
   "metadata": {},
   "outputs": [],
   "source": [
    "def subset_sum_exists(integers, n, target_sum):\n",
    "    if target_sum==0:\n",
    "        return True\n",
    "    elif n==0:\n",
    "        return False\n",
    "    else:\n",
    "        current_int = integers[n-1]\n",
    "        if current_int <= target_sum:\n",
    "            return subset_sum_exists(integers, n-1, target_sum-current_int) or subset_sum_exists(integers, n-1, target_sum)\n",
    "        else:\n",
    "            return subset_sum_exists(integers, n-1, target_sum)\n",
    "        \n",
    "def memoized_subset_sum_exists(integers, n, target_sum, history):\n",
    "    if target_sum == 0:\n",
    "        history[n][target_sum] = True\n",
    "    elif n == 0:\n",
    "        history[n][target_sum] = False\n",
    "    else:\n",
    "        if history[n][target_sum] != -1:\n",
    "            return history[n][target_sum]\n",
    "        else:\n",
    "            current_int = integers[n-1]\n",
    "            if current_int <= target_sum:\n",
    "                history[n][target_sum] = memoized_subset_sum_exists(integers, n-1, target_sum-current_int, history) or memoized_subset_sum_exists(integers, n-1, target_sum, history)\n",
    "            else:\n",
    "                history[n][target_sum] = memoized_subset_sum_exists(integers, n-1, target_sum, history)\n",
    "    return history[n][target_sum]"
   ]
  },
  {
   "cell_type": "markdown",
   "metadata": {},
   "source": [
    "## A freaking more efficient approach:\n",
    "Just compute the iterative matrix of sub_solutions for subset_sum problem<br>\n",
    "And traverse through the bottom row of that matrix => [n][0....max_subset_sum]\n",
    " \n",
    "So, the last row will involve the answer to all the combination of subset_sum_exists which we are computing above.\n",
    "\n",
    "So, basically, start from the middle of the last row of the iterative sub_solutions matrix and move on till you find the first \"True\" and then, look at the column_number (subset_sum_to_check) and then, do the same thing as you did above."
   ]
  },
  {
   "cell_type": "code",
   "execution_count": 37,
   "metadata": {},
   "outputs": [],
   "source": [
    "def iterative_solution(integers, n, target_sum, sub_solutions):\n",
    "    for i in range(n+1):\n",
    "        for j in range(target_sum+1):\n",
    "            if j==0:\n",
    "                sub_solutions[i][j] = True\n",
    "            elif i==0:\n",
    "                sub_solutions[i][j] = False\n",
    "            else:\n",
    "                current_int = integers[i-1]\n",
    "                if current_int <= j:\n",
    "                    sub_solutions[i][j] = sub_solutions[i-1][j-current_int] or sub_solutions[i-1][j]\n",
    "                else:\n",
    "                    sub_solutions[i][j] = sub_solutions[i-1][j]\n",
    "    ## Here, sub_solutions are filled\n",
    "    ## So, now we will look at the last row\n",
    "    max_subset_sum = sum(integers)\n",
    "    min_subset_sum = 0\n",
    "    \n",
    "    final_min_diff_output = max_subset_sum-min_subset_sum\n",
    "    \n",
    "    if final_min_diff_output%2 == 0:\n",
    "        middle_subset_sum = int(final_min_diff_output/2)\n",
    "    else:\n",
    "        middle_subset_sum = int((final_min_diff_output+1)/2)\n",
    "        \n",
    "    for subset_sum_to_check in range(middle_subset_sum, max_subset_sum+1):\n",
    "        if sub_solutions[n][subset_sum_to_check]:\n",
    "            final_min_dff_output = subset_sum_to_check - (max_subset_sum - subset_sum_to_check)\n",
    "            break\n",
    "        else:\n",
    "            continue\n",
    "    \n",
    "    return final_min_dff_output"
   ]
  },
  {
   "cell_type": "code",
   "execution_count": 38,
   "metadata": {},
   "outputs": [
    {
     "name": "stdout",
     "output_type": "stream",
     "text": [
      "4\n"
     ]
    }
   ],
   "source": [
    "integers = [1, 7, 2]\n",
    "n = len(integers)\n",
    "max_subset_sum = sum(integers)-0\n",
    "sub_solutions = [[-1 for j in range(max_subset_sum+1)] for i in range(n+1)]\n",
    "\n",
    "print (iterative_solution(integers, n, max_subset_sum, sub_solutions))"
   ]
  },
  {
   "cell_type": "code",
   "execution_count": 41,
   "metadata": {},
   "outputs": [
    {
     "name": "stdout",
     "output_type": "stream",
     "text": [
      "Minimum possible difference is: -1  (11 - 12)\n"
     ]
    }
   ],
   "source": [
    "integers = [1, 6, 5, 11]\n",
    "n = len(integers)\n",
    "min_subset_sum = 0\n",
    "max_subset_sum = sum(integers)\n",
    "\n",
    "middle_subset_sum = int((max_subset_sum-min_subset_sum)/2)\n",
    "\n",
    "for subset_sum_to_check in range(middle_subset_sum, -1, -1):\n",
    "    history = [[-1 for j in range(subset_sum_to_check+1)] for i in range(n+1)]   ###[n+1][target_sum+1]\n",
    "    if memoized_subset_sum_exists(integers, n, subset_sum_to_check, history):\n",
    "        print (\"Minimum possible difference is: {}  ({} - {})\".format((subset_sum_to_check - (max_subset_sum-subset_sum_to_check)), subset_sum_to_check, (max_subset_sum-subset_sum_to_check)))\n",
    "        break\n",
    "    else:\n",
    "        continue\n",
    "\n"
   ]
  },
  {
   "cell_type": "code",
   "execution_count": 10,
   "metadata": {},
   "outputs": [],
   "source": [
    "## [0, 1, 1, 2, 3, 5, 8, 13]"
   ]
  },
  {
   "cell_type": "code",
   "execution_count": 11,
   "metadata": {},
   "outputs": [],
   "source": [
    "def fib(n):\n",
    "    if n==0 or n==1:\n",
    "        return n\n",
    "    else:\n",
    "        return fib(n-1) + fib(n-2)"
   ]
  },
  {
   "cell_type": "code",
   "execution_count": 17,
   "metadata": {},
   "outputs": [],
   "source": [
    "def memoized_fib(n, history):\n",
    "    if n==0 or n==1:\n",
    "        history[n]=n\n",
    "        return history[n]\n",
    "    else:\n",
    "        if history[n] != -1:\n",
    "            return history[n]\n",
    "        else:\n",
    "            if history[n-1] == -1:\n",
    "                history[n-1] = fib(n-1)\n",
    "            if history[n-2] == -1:\n",
    "                history[n-2] = fib(n-2)\n",
    "            return history[n-1] + history[n-2]"
   ]
  },
  {
   "cell_type": "code",
   "execution_count": 18,
   "metadata": {},
   "outputs": [
    {
     "name": "stdout",
     "output_type": "stream",
     "text": [
      "55\n"
     ]
    }
   ],
   "source": [
    "history = [-1 for i in range(10+1)]\n",
    "print (memoized_fib(10, history))"
   ]
  },
  {
   "cell_type": "code",
   "execution_count": 20,
   "metadata": {},
   "outputs": [],
   "source": [
    "def iterative_fib(n, sub_solutions):\n",
    "    for i in range(0, n+1):\n",
    "        if i==0 or i==1:\n",
    "            sub_solutions[i]=i\n",
    "        else:\n",
    "            sub_solutions[i] = sub_solutions[i-1] + sub_solutions[i-2]\n",
    "    return sub_solutions[n]"
   ]
  },
  {
   "cell_type": "code",
   "execution_count": 21,
   "metadata": {},
   "outputs": [
    {
     "name": "stdout",
     "output_type": "stream",
     "text": [
      "55\n"
     ]
    }
   ],
   "source": [
    "sub_solutions = [-1 for i in range(10+1)]\n",
    "print (iterative_fib(10, sub_solutions))"
   ]
  },
  {
   "cell_type": "code",
   "execution_count": null,
   "metadata": {},
   "outputs": [],
   "source": []
  }
 ],
 "metadata": {
  "kernelspec": {
   "display_name": "Python 3",
   "language": "python",
   "name": "python3"
  },
  "language_info": {
   "codemirror_mode": {
    "name": "ipython",
    "version": 3
   },
   "file_extension": ".py",
   "mimetype": "text/x-python",
   "name": "python",
   "nbconvert_exporter": "python",
   "pygments_lexer": "ipython3",
   "version": "3.7.1"
  }
 },
 "nbformat": 4,
 "nbformat_minor": 2
}
