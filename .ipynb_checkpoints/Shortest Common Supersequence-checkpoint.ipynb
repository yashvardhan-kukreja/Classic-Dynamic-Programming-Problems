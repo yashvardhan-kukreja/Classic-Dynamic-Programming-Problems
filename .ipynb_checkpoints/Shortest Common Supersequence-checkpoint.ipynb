{
 "cells": [
  {
   "cell_type": "markdown",
   "metadata": {},
   "source": [
    "# Shortest Common Supersequence"
   ]
  },
  {
   "cell_type": "markdown",
   "metadata": {},
   "source": [
    "## Introduction"
   ]
  },
  {
   "cell_type": "markdown",
   "metadata": {},
   "source": [
    "Given two strings a and b<br>\n",
    "Find the length of the shortest common supersequence which basically contains a and b separately as individual subsequences.\n",
    "\n",
    "For example, <br>\n",
    "a = \"geek\"<br>\n",
    "b = \"eke\"<br>\n",
    "\n",
    "So, output = 5 because shortest common supersequence is = geeke"
   ]
  },
  {
   "cell_type": "code",
   "execution_count": 66,
   "metadata": {},
   "outputs": [],
   "source": [
    "def scs(a, b, n, m):\n",
    "    if n == 0 or m==0:\n",
    "        return m+n ### basically, if m==0, return n .... and if n==0, return m\n",
    "    else:\n",
    "        if a[n-1] == b[m-1]:\n",
    "            return 1+scs(a, b, n-1, m-1)\n",
    "        else:\n",
    "            return min(1+scs(a, b, n-1, m), 1+scs(a, b, n, m-1))\n",
    "        \n",
    "def iterative_scs(a, b, n, m):\n",
    "    sub_solutions = [[-1 for j in range(m+1)] for i in range(n+1)]\n",
    "    for i in range(n+1):\n",
    "        for j in range(m+1):\n",
    "            if i==0 or j==0:\n",
    "                sub_solutions[i][j] = i+j\n",
    "            else:\n",
    "                if a[i-1] == b[j-1]:\n",
    "                    sub_solutions[i][j] = 1+sub_solutions[i-1][j-1]\n",
    "                else:\n",
    "                    sub_solutions[i][j] = min(1+sub_solutions[i-1][j], 1+sub_solutions[i][j-1])\n",
    "    return sub_solutions[n][m], sub_solutions\n",
    "\n",
    "def print_matrix(mat):\n",
    "    for i in mat:\n",
    "        for j in i:\n",
    "            print (j, end=\" \")\n",
    "        print (\"\")"
   ]
  },
  {
   "cell_type": "code",
   "execution_count": 55,
   "metadata": {},
   "outputs": [],
   "source": [
    "a = \"geek\"\n",
    "b = \"eke\"\n",
    "n = len(a)\n",
    "m = len(b)"
   ]
  },
  {
   "cell_type": "code",
   "execution_count": 56,
   "metadata": {},
   "outputs": [
    {
     "data": {
      "text/plain": [
       "5"
      ]
     },
     "execution_count": 56,
     "metadata": {},
     "output_type": "execute_result"
    }
   ],
   "source": [
    "scs(a, b, n, m)"
   ]
  },
  {
   "cell_type": "code",
   "execution_count": 57,
   "metadata": {},
   "outputs": [],
   "source": [
    "min_len, sol = iterative_scs(a, b, n, m)"
   ]
  },
  {
   "cell_type": "markdown",
   "metadata": {},
   "source": [
    "## Another Great Approach - By using LCS"
   ]
  },
  {
   "cell_type": "markdown",
   "metadata": {},
   "source": [
    "Basically, \n",
    "\n",
    "Find the lamest solution. It is basically, appending a with b. That would be a supersequence as well but not the shortest one.\n",
    "\n",
    "So, this means that it has some unnecessary characters which can be removed.\n",
    "\n",
    "The unnecessary characters are basically the characters in order which are present in string a and string b in the same order (contiguously or non-contiguously, whatever, because we are dealing with subsequences here and not sub strings).\n",
    "\n",
    "So, they are unnecessary because they are occuring twice (one set belongs to string a half, one set belongs to string b half, ... because we straight away appended the strings). So, we have to remove them once. **And that will give us the shortest common supersequence.**\n",
    "\n",
    "So, total number of such unnecessary characters = length of the longest common subsequence of a and b\n",
    "\n",
    "**So, on removing the unnecessary characters from the lamest approach, the length we will be left with = (m+n) - LCS**\n",
    "\n",
    "Here, (m+n) -> original length of the lamest solution.<br>\n",
    "LCS -> length of the longest common subsequence between a and b"
   ]
  },
  {
   "cell_type": "code",
   "execution_count": null,
   "metadata": {},
   "outputs": [],
   "source": []
  }
 ],
 "metadata": {
  "kernelspec": {
   "display_name": "Python 3",
   "language": "python",
   "name": "python3"
  },
  "language_info": {
   "codemirror_mode": {
    "name": "ipython",
    "version": 3
   },
   "file_extension": ".py",
   "mimetype": "text/x-python",
   "name": "python",
   "nbconvert_exporter": "python",
   "pygments_lexer": "ipython3",
   "version": "3.7.1"
  }
 },
 "nbformat": 4,
 "nbformat_minor": 2
}
