{
 "cells": [
  {
   "cell_type": "markdown",
   "metadata": {},
   "source": [
    "# Subset Sum Problem"
   ]
  },
  {
   "cell_type": "markdown",
   "metadata": {},
   "source": [
    "## Introduction"
   ]
  },
  {
   "cell_type": "markdown",
   "metadata": {},
   "source": [
    "Here, an array of integers is given and a target value is given.\n",
    "\n",
    "You have to find whether there exists a subset of integers, which when summed, becomes equal to the target value."
   ]
  },
  {
   "cell_type": "markdown",
   "metadata": {},
   "source": [
    "## Why is this a DP problem?"
   ]
  },
  {
   "cell_type": "markdown",
   "metadata": {},
   "source": [
    "Here, the output required is an optimal value, which is the target value.\n",
    "\n",
    "Nothing less, nothing more. Just the target value.\n",
    "\n",
    "In fact, the fact that the end goal is reaching the exact value of target sum, gives a vibe of the base case itself ;)"
   ]
  },
  {
   "cell_type": "markdown",
   "metadata": {},
   "source": [
    "## Variables:\n",
    "\n",
    "integers (int[])  = array of integers from which the subset is supposed to be extracted.\n",
    "\n",
    "target_val = target sum which needs to achieved by any possible subset from the integers"
   ]
  },
  {
   "cell_type": "markdown",
   "metadata": {},
   "source": [
    "## Approach:\n",
    "**Step 1).** - Recursive solution. <br>\n",
    "**Step 2).** - Building the memoized solution (still recursive) from recursive solution. <br>\n",
    "**Step 3).** - Building the top-down solution (iterative solution) with the help of recursive solution. <br>"
   ]
  },
  {
   "cell_type": "markdown",
   "metadata": {},
   "source": [
    "## General Algorithm:\n",
    "We are going to start from the end of the array of integers.\n",
    "\n",
    "If the current integer is greater than the required target sum, then obviously we won't consider it in any possible subset (because it's involvement in the subset **alone** will make the subset sum greater than the target sum, hence **not equal**)\n",
    "\n",
    "If the current integer is less than or equal to the required target sum, then the output (subset exists or not - True or False), we will be dependent on the following:<br><br>\n",
    "       **target sum possible, if we include the current element?** <u>*(Here, on calling this function, we will first update the target to **(target-current element)** because now, we only need to append those elements to the subset whose sum = **(target-current)** and the existing current element in the subset will produce the final subset sum as **target** -> (current + (target-current)) )*</u>\n",
    "    <br>**OR**<br> **target sum possible, if we don't include the current element**\n",
    "       \n",
    "\n",
    "       \n",
    "We will do this until we traverse the entire array or the target sum becomes 0 (after multiple times updating the target -> (target-current))\n",
    "\n",
    "if target becomes 0 -> return **True** (we achieved the subset whose sum results in target sum)<br>\n",
    "if we traverse the entire and still target hasn't become zero yet -> return **False** (we traversed and saw all the elements and we failed to achieve the subset whose sum results in target sum)"
   ]
  },
  {
   "cell_type": "markdown",
   "metadata": {},
   "source": [
    "## How is it analogous to 0-1 Knapsack Problem?\n",
    "Here, integers array is like the weights array in the knapsack problem. <br>\n",
    "And, the target_val is like the weight limit of the bag (W) in the knapsack problem.<br>"
   ]
  },
  {
   "cell_type": "markdown",
   "metadata": {},
   "source": [
    "## Let's code"
   ]
  },
  {
   "cell_type": "markdown",
   "metadata": {},
   "source": [
    "### Setting up the inputs"
   ]
  },
  {
   "cell_type": "code",
   "execution_count": 141,
   "metadata": {},
   "outputs": [],
   "source": [
    "import time\n",
    "n = 5\n",
    "integers = [2, 3, 5, 6, 8]\n",
    "target_val = 15"
   ]
  },
  {
   "cell_type": "markdown",
   "metadata": {},
   "source": [
    "## Recursive solution:"
   ]
  },
  {
   "cell_type": "code",
   "execution_count": 142,
   "metadata": {},
   "outputs": [],
   "source": [
    "def is_possible(integers, target, n):\n",
    "    if target==0:\n",
    "        return True\n",
    "    elif n==0:\n",
    "        return False\n",
    "    else:\n",
    "        current_int = integers[n-1]\n",
    "        if current_int <= target:\n",
    "            return is_possible(integers, target-current_int, n-1) or is_possible(integers, target, n-1)\n",
    "        else:\n",
    "            return is_possible(integers, target, n-1)"
   ]
  },
  {
   "cell_type": "code",
   "execution_count": 143,
   "metadata": {},
   "outputs": [
    {
     "name": "stdout",
     "output_type": "stream",
     "text": [
      "For the above inputs, is the subset sum possible? -> True\n",
      "Computation took 0.087738037109375 ms\n"
     ]
    }
   ],
   "source": [
    "start = time.time()\n",
    "output = is_possible(integers, target_val, n)\n",
    "end = time.time()\n",
    "print (\"For the above inputs, is the subset sum possible? -> {}\\nComputation took {} ms\".format(output, (end-start)*1000))"
   ]
  },
  {
   "cell_type": "markdown",
   "metadata": {},
   "source": [
    "## Memoized solution:\n",
    "\n",
    "If we look at the recursive calls, then we can see that there are two parameters in the recursive function call which are updating -> target_val and n\n",
    "\n",
    "Hence, the history matrix will be a 2-D where one dimension will be dedicated to values of **n** (rows)<br>\n",
    "And the other dimension will be dedicated to the values of **target_val** (columns)\n"
   ]
  },
  {
   "cell_type": "code",
   "execution_count": 144,
   "metadata": {},
   "outputs": [],
   "source": [
    "# history[n+1][target_val+1]\n",
    "history = [[-1 for j in range(target_val+1)] for i in range(n+1)]"
   ]
  },
  {
   "cell_type": "code",
   "execution_count": 145,
   "metadata": {},
   "outputs": [],
   "source": [
    "def memoized_is_possible(integers, target, n, history):\n",
    "    if target == 0:\n",
    "        history[n][target] = True\n",
    "        return history[n][target]\n",
    "    elif n == 0:\n",
    "        history[n][target] = False\n",
    "        return history[n][target]\n",
    "    else:\n",
    "        if history[n][target] != -1:\n",
    "            return history[n][target]\n",
    "        else:\n",
    "            current_int = integers[n-1]\n",
    "            if current_int <= target:\n",
    "                history[n][target] = memoized_is_possible(integers, target-current_int, n-1, history) or memoized_is_possible(integers, target, n-1, history)\n",
    "                return history[n][target]\n",
    "            else:\n",
    "                history[n][target] = memoized_is_possible(integers, target, n-1, history)\n",
    "                return history[n][target]"
   ]
  },
  {
   "cell_type": "code",
   "execution_count": 146,
   "metadata": {},
   "outputs": [
    {
     "name": "stdout",
     "output_type": "stream",
     "text": [
      "For the above inputs, is the subset sum possible? -> True\n",
      "Computation took 0.0553131103515625 ms\n"
     ]
    }
   ],
   "source": [
    "start = time.time()\n",
    "output = memoized_is_possible(integers, target_val, n, history)\n",
    "end = time.time()\n",
    "print (\"For the above inputs, is the subset sum possible? -> {}\\nComputation took {} ms\".format(output, (end-start)*1000))"
   ]
  },
  {
   "cell_type": "markdown",
   "metadata": {},
   "source": [
    "## Iterative Approach:"
   ]
  },
  {
   "cell_type": "code",
   "execution_count": 147,
   "metadata": {},
   "outputs": [],
   "source": [
    "sub_solutions = [[-1 for j in range(target_val+1)] for i in range(n+1)]"
   ]
  },
  {
   "cell_type": "code",
   "execution_count": 148,
   "metadata": {},
   "outputs": [],
   "source": [
    "def iterative_is_possible(integers, target, n, sub_solutions):\n",
    "    for i in range(0, n+1):\n",
    "        for j in range(0, target+1):\n",
    "            if j==0:\n",
    "                sub_solutions[i][j] = True\n",
    "            elif i==0:\n",
    "                sub_solutions[i][j] = False\n",
    "            else:\n",
    "                current_n = i\n",
    "                current_target = j\n",
    "                current_int = integers[i-1]\n",
    "                if current_int <= current_target:\n",
    "                    #sub_solutions[i][j] = sub_solutions[i-1][j-integers[i-1]] or sub_solutions[i-1][j]\n",
    "                    sub_solutions[i][j] = sub_solutions[current_n-1][current_target-current_int] or sub_solutions[current_n-1][current_target]\n",
    "                else:\n",
    "                    #sub_solutions[i][j] = sub_solutions[i-1][j]\n",
    "                    sub_solutions[i][j] = sub_solutions[current_n-1][current_target]\n",
    "    return sub_solutions[n][target]"
   ]
  },
  {
   "cell_type": "code",
   "execution_count": 149,
   "metadata": {},
   "outputs": [
    {
     "name": "stdout",
     "output_type": "stream",
     "text": [
      "For the above inputs, is the subset sum possible? -> True\n",
      "Computation took 0.08988380432128906 ms\n"
     ]
    }
   ],
   "source": [
    "start = time.time()\n",
    "output = iterative_is_possible(integers, target_val, n, sub_solutions)\n",
    "end = time.time()\n",
    "print (\"For the above inputs, is the subset sum possible? -> {}\\nComputation took {} ms\".format(output, (end-start)*1000))"
   ]
  },
  {
   "cell_type": "markdown",
   "metadata": {},
   "source": [
    "## Benchmark Test:\n",
    "Let's compare the performances of all the approaches"
   ]
  },
  {
   "cell_type": "code",
   "execution_count": 150,
   "metadata": {},
   "outputs": [
    {
     "name": "stdout",
     "output_type": "stream",
     "text": [
      "---------------------------------Below is the recursive approach-------------------------------------\n",
      "For the above inputs, is the subset sum possible? -> True\n",
      "Computation took of 5 calls 0.28395652770996094 ms\n",
      "\n",
      "---------------------------------Below is the memoized approach-------------------------------------\n",
      "For the above inputs, is the subset sum possible? -> True\n",
      "Computation of 5 calls took 0.23174285888671875 ms\n",
      "\n",
      "---------------------------------Below is the iterative approach-------------------------------------\n",
      "For the above inputs, is the subset sum possible? -> True\n",
      "Computation of 5 calls took 0.5369186401367188 ms\n"
     ]
    }
   ],
   "source": [
    "print (\"---------------------------------Below is the recursive approach-------------------------------------\")\n",
    "start = time.time()\n",
    "output = is_possible(integers, target_val, n)\n",
    "output = is_possible(integers, target_val, n)\n",
    "output = is_possible(integers, target_val, n)\n",
    "output = is_possible(integers, target_val, n)\n",
    "output = is_possible(integers, target_val, n)\n",
    "end = time.time()\n",
    "print (\"For the above inputs, is the subset sum possible? -> {}\\nComputation took of 5 calls {} ms\\n\".format(output, (end-start)*1000))\n",
    "\n",
    "print (\"---------------------------------Below is the memoized approach-------------------------------------\")\n",
    "start = time.time()\n",
    "output = memoized_is_possible(integers, target_val, n, history)\n",
    "output = memoized_is_possible(integers, target_val, n, history)\n",
    "output = memoized_is_possible(integers, target_val, n, history)\n",
    "output = memoized_is_possible(integers, target_val, n, history)\n",
    "output = memoized_is_possible(integers, target_val, n, history)\n",
    "end = time.time()\n",
    "print (\"For the above inputs, is the subset sum possible? -> {}\\nComputation of 5 calls took {} ms\\n\".format(output, (end-start)*1000))\n",
    "\n",
    "print (\"---------------------------------Below is the iterative approach-------------------------------------\")\n",
    "start = time.time()\n",
    "output = iterative_is_possible(integers, target_val, n, sub_solutions)\n",
    "output = iterative_is_possible(integers, target_val, n, sub_solutions)\n",
    "output = iterative_is_possible(integers, target_val, n, sub_solutions)\n",
    "output = iterative_is_possible(integers, target_val, n, sub_solutions)\n",
    "output = iterative_is_possible(integers, target_val, n, sub_solutions)\n",
    "end = time.time()\n",
    "print (\"For the above inputs, is the subset sum possible? -> {}\\nComputation of 5 calls took {} ms\".format(output, (end-start)*1000))"
   ]
  }
 ],
 "metadata": {
  "kernelspec": {
   "display_name": "Python 3",
   "language": "python",
   "name": "python3"
  },
  "language_info": {
   "codemirror_mode": {
    "name": "ipython",
    "version": 3
   },
   "file_extension": ".py",
   "mimetype": "text/x-python",
   "name": "python",
   "nbconvert_exporter": "python",
   "pygments_lexer": "ipython3",
   "version": "3.7.1"
  }
 },
 "nbformat": 4,
 "nbformat_minor": 2
}
