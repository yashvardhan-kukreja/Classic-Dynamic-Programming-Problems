{
 "cells": [
  {
   "cell_type": "markdown",
   "metadata": {},
   "source": [
    "# Rod Cutting Problem"
   ]
  },
  {
   "cell_type": "markdown",
   "metadata": {},
   "source": [
    "## Introduction"
   ]
  },
  {
   "cell_type": "markdown",
   "metadata": {},
   "source": [
    "Here, you are given a rod of length L (int) <br>\n",
    "And, you are given an array denoting the profit values of the individual lengths of the rod. <br>\n",
    "\n",
    "So, the output should be the maximum value attainable when the rod is cut the right way and sold.<br>\n",
    "\n",
    "For example, values = [3, 5, 8, 9] denotes that:\n",
    " - Rod of length=1 has a value of Rs. 3\n",
    " - Rod of length=2 has a value of Rs. 5\n",
    " - Rod of length=3 has a value of Rs. 8\n",
    " - Rod of length=4 has a value of Rs. 9\n",
    "    \n",
    "Now, the length of the rod = L = 4\n",
    "\n",
    "So, either you can leave the rod as it is and its value will be = 9 (price of length=4)<br>\n",
    "Or, you can cut the rod into two pieces of each of length=2 which will result in a total value of = 10 ((value of length=2) + (value of length=2))<br>\n",
    "\n",
    "Or, you can cut the rod into two pieces where one's length = 1 and the other piece's length=3, and that will result in a total value of = 3 + 8 = 11<br>\n",
    "\n",
    "Or, you can cut the rod into four pieces where each one's length=1 and that will result in a total value of = 3 + 3 + 3 + 3 = 12<br>\n",
    "\n",
    "So, clearly the last variation produces the max. value.\n",
    "\n",
    "**Hence, return the max. value in this case which is \"12\"**\n",
    "    \n"
   ]
  },
  {
   "cell_type": "code",
   "execution_count": 1,
   "metadata": {},
   "outputs": [],
   "source": [
    "def max_val(values, n, remaining_length):\n",
    "    if n==0 or remaining_length==0:\n",
    "        return 0\n",
    "    else:\n",
    "        current_value= values[n-1]\n",
    "        if n <= remaining_length:\n",
    "            return max(current_value+max_val(values, n, remaining_length-n),\n",
    "                      max_val(values, n-1, remaining_length))\n",
    "        else:\n",
    "            return max_val(values, n-1, remaining_length)\n",
    "        \n",
    "        \n",
    "        \n",
    "def iter_max_val(values, n, total_length):\n",
    "    sub_solutions = [[-1 for j in range(total_length+1)] for i in range(n+1)]\n",
    "    for i in range(0, n+1):\n",
    "        for j in range(0, total_length+1):\n",
    "            if j==0 or i==0:\n",
    "                sub_solutions[i][j] = 0\n",
    "            else:\n",
    "                current_value = values[i-1]\n",
    "                current_total_length = j\n",
    "                current_n = i\n",
    "                if current_n <= current_total_length:\n",
    "                    sub_solutions[current_n][current_total_length] = max(current_value + sub_solutions[current_n][current_total_length-current_n],\n",
    "                                             current_value + sub_solutions[current_n-1][current_total_length-current_n],\n",
    "                                             sub_solutions[current_n-1][current_total_length])\n",
    "                else:\n",
    "                    sub_solutions[current_n][current_total_length] = sub_solutions[i-1][j]\n",
    "    return sub_solutions[n][total_length]"
   ]
  },
  {
   "cell_type": "code",
   "execution_count": 2,
   "metadata": {},
   "outputs": [],
   "source": [
    "values = [3, 5, 8, 9]\n",
    "remaining_length = 4"
   ]
  },
  {
   "cell_type": "code",
   "execution_count": 3,
   "metadata": {},
   "outputs": [
    {
     "data": {
      "text/plain": [
       "12"
      ]
     },
     "execution_count": 3,
     "metadata": {},
     "output_type": "execute_result"
    }
   ],
   "source": [
    "max_val(values, len(values), remaining_length)"
   ]
  },
  {
   "cell_type": "code",
   "execution_count": null,
   "metadata": {},
   "outputs": [],
   "source": []
  }
 ],
 "metadata": {
  "kernelspec": {
   "display_name": "Python 3",
   "language": "python",
   "name": "python3"
  },
  "language_info": {
   "codemirror_mode": {
    "name": "ipython",
    "version": 3
   },
   "file_extension": ".py",
   "mimetype": "text/x-python",
   "name": "python",
   "nbconvert_exporter": "python",
   "pygments_lexer": "ipython3",
   "version": "3.7.1"
  }
 },
 "nbformat": 4,
 "nbformat_minor": 2
}
