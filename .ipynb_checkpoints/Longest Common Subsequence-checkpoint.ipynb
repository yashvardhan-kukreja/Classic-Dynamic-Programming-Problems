{
 "cells": [
  {
   "cell_type": "markdown",
   "metadata": {},
   "source": [
    "# Longest Common Subsequence"
   ]
  },
  {
   "cell_type": "markdown",
   "metadata": {},
   "source": [
    "## Introduction"
   ]
  },
  {
   "cell_type": "markdown",
   "metadata": {},
   "source": [
    "Given two strings a and b <br>\n",
    "Find the length of the longest common subsequence between them<br>"
   ]
  },
  {
   "cell_type": "code",
   "execution_count": 134,
   "metadata": {},
   "outputs": [],
   "source": [
    "def solve(a, b, n, m):\n",
    "    if n==0 or m==0:\n",
    "        return 0\n",
    "    else:\n",
    "        if a[n-1] == b[m-1]:\n",
    "            return 1 + solve(a, b, n-1, m-1)\n",
    "        else:\n",
    "            return max(solve(a, b, n-1, m), solve(a, b, n, m-1))\n",
    "        \n",
    "def memoized_solve(a, b, n, m, history):\n",
    "    if n==0 or m==0:\n",
    "        history[n][m] = 0\n",
    "        return history[n][m]\n",
    "    else:\n",
    "        if history[n][m] != -1:\n",
    "            return history[n][m]\n",
    "        else:\n",
    "            if a[n-1] == b[m-1]:\n",
    "                history[n][m] = 1 + memoized_solve(a, b, n-1, m-1, history)\n",
    "            else:\n",
    "                history[n][m] = max(memoized_solve(a, b, n-1, m, history), memoized_solve(a, b, n, m-1, history))\n",
    "        return history[n][m]\n",
    "    \n",
    "def iterative_solve(a, b, n, m):\n",
    "    sub_solutions = [[-1 for j in range(m+1)] for i in range(n+1)]\n",
    "    for i in range(n+1):\n",
    "        for j in range(m+1):\n",
    "            if i==0 or j==0:\n",
    "                sub_solutions[i][j] = 0\n",
    "            else:\n",
    "                if a[i-1] == b[j-1]:\n",
    "                    sub_solutions[i][j] = 1 + sub_solutions[i-1][j-1]\n",
    "                else:\n",
    "                    sub_solutions[i][j] = max(sub_solutions[i-1][j], sub_solutions[i][j-1])\n",
    "    return sub_solutions, sub_solutions[n][m]\n",
    "\n",
    "### The below function will produce the longest increasing subsequence if provided the history of previous sub-solutions\n",
    "def find_lcs(sub_solutions):\n",
    "    output = \"\"\n",
    "    i = len(sub_solutions)-1\n",
    "    j = len(sub_solutions[0])-1\n",
    "    while i>0 and j>0:\n",
    "        if sub_solutions[i][j] != sub_solutions[i-1][j-1]:\n",
    "            output = b[j-1] + output\n",
    "            i -= 1\n",
    "            j -= 1\n",
    "        else:\n",
    "            j -= 1\n",
    "    return output"
   ]
  },
  {
   "cell_type": "code",
   "execution_count": 135,
   "metadata": {},
   "outputs": [],
   "source": [
    "a = \"abcdgh\"\n",
    "b = \"abedfhhh\"\n",
    "n = len(a)\n",
    "m = len(b)\n",
    "history = [[-1 for j in range(m+1)] for i in range(n+1)]"
   ]
  },
  {
   "cell_type": "code",
   "execution_count": 136,
   "metadata": {},
   "outputs": [
    {
     "data": {
      "text/plain": [
       "4"
      ]
     },
     "execution_count": 136,
     "metadata": {},
     "output_type": "execute_result"
    }
   ],
   "source": [
    "solve(a, b, n, m)"
   ]
  },
  {
   "cell_type": "code",
   "execution_count": 137,
   "metadata": {},
   "outputs": [
    {
     "data": {
      "text/plain": [
       "'abdh'"
      ]
     },
     "execution_count": 137,
     "metadata": {},
     "output_type": "execute_result"
    }
   ],
   "source": [
    "memoized_solve(a, b, n, m, history)\n",
    "find_lcs(history)"
   ]
  },
  {
   "cell_type": "code",
   "execution_count": 139,
   "metadata": {},
   "outputs": [
    {
     "data": {
      "text/plain": [
       "'abdh'"
      ]
     },
     "execution_count": 139,
     "metadata": {},
     "output_type": "execute_result"
    }
   ],
   "source": [
    "sols, length = iterative_solve(a, b, n, m)\n",
    "find_lcs(sols)"
   ]
  }
 ],
 "metadata": {
  "kernelspec": {
   "display_name": "Python 3",
   "language": "python",
   "name": "python3"
  },
  "language_info": {
   "codemirror_mode": {
    "name": "ipython",
    "version": 3
   },
   "file_extension": ".py",
   "mimetype": "text/x-python",
   "name": "python",
   "nbconvert_exporter": "python",
   "pygments_lexer": "ipython3",
   "version": "3.7.1"
  }
 },
 "nbformat": 4,
 "nbformat_minor": 2
}
