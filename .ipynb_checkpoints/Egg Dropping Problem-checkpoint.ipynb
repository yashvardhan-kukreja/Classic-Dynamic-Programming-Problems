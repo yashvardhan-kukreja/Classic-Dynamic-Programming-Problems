{
 "cells": [
  {
   "cell_type": "code",
   "execution_count": null,
   "metadata": {},
   "outputs": [],
   "source": [
    "# Egg Dropping Problem"
   ]
  },
  {
   "cell_type": "code",
   "execution_count": null,
   "metadata": {},
   "outputs": [],
   "source": [
    "## Information"
   ]
  },
  {
   "cell_type": "markdown",
   "metadata": {},
   "source": [
    "Given\n",
    "\n",
    "total number of floors = f<br>\n",
    "Numbers of eggs available = n<br>\n",
    "\n",
    "We have to find the minimum possible number of trials to find a floor k from which egg becomes breakable.\n"
   ]
  },
  {
   "cell_type": "code",
   "execution_count": null,
   "metadata": {},
   "outputs": [],
   "source": [
    "def solve(n, k):\n",
    "    if k==0 or k==1:\n",
    "        return k\n",
    "    if n == 1:\n",
    "        return k\n",
    "    \n",
    "    min_trials = 9999999999999999\n",
    "    for x in range(1, k+1):\n",
    "        temp = max(solve(n-1, x-1),solve(n, k-x))\n",
    "        if temp < min_trials:\n",
    "            min_trials = temp\n",
    "    return 1+min_trials\n",
    "        "
   ]
  },
  {
   "cell_type": "code",
   "execution_count": 33,
   "metadata": {},
   "outputs": [],
   "source": [
    "INT_MAX = 32767\n",
    "  \n",
    "# Function to get minimum number of trials needed in worst \n",
    "# case with n eggs and k floors \n",
    "def eggDrop(n, k): \n",
    "    # A 2D table where entery eggFloor[i][j] will represent minimum \n",
    "    # number of trials needed for i eggs and j floors. \n",
    "    eggFloor = [[0 for x in range(k+1)] for x in range(n+1)] \n",
    "  \n",
    "    # We need one trial for one floor and0 trials for 0 floors \n",
    "    for i in range(1, n+1): \n",
    "        eggFloor[i][1] = 1\n",
    "        eggFloor[i][0] = 0\n",
    "  \n",
    "    # We always need j trials for one egg and j floors. \n",
    "    for j in range(1, k+1): \n",
    "        eggFloor[1][j] = j \n",
    "  \n",
    "    # Fill rest of the entries in table using optimal substructure \n",
    "    # property \n",
    "    for i in range(2, n+1): \n",
    "        for j in range(2, k+1): \n",
    "            eggFloor[i][j] = INT_MAX \n",
    "            for x in range(1, j+1): \n",
    "                res = 1 + max(eggFloor[i-1][x-1], eggFloor[i][j-x]) \n",
    "                if res < eggFloor[i][j]: \n",
    "                    eggFloor[i][j] = res \n",
    "  \n",
    "    # eggFloor[n][k] holds the result \n",
    "    return eggFloor[n][k] "
   ]
  },
  {
   "cell_type": "code",
   "execution_count": 34,
   "metadata": {},
   "outputs": [
    {
     "data": {
      "text/plain": [
       "8"
      ]
     },
     "execution_count": 34,
     "metadata": {},
     "output_type": "execute_result"
    }
   ],
   "source": [
    "import sys\n",
    "eggDrop(2, 36)"
   ]
  },
  {
   "cell_type": "code",
   "execution_count": null,
   "metadata": {},
   "outputs": [],
   "source": []
  }
 ],
 "metadata": {
  "kernelspec": {
   "display_name": "Python 3",
   "language": "python",
   "name": "python3"
  },
  "language_info": {
   "codemirror_mode": {
    "name": "ipython",
    "version": 3
   },
   "file_extension": ".py",
   "mimetype": "text/x-python",
   "name": "python",
   "nbconvert_exporter": "python",
   "pygments_lexer": "ipython3",
   "version": "3.7.1"
  }
 },
 "nbformat": 4,
 "nbformat_minor": 2
}
