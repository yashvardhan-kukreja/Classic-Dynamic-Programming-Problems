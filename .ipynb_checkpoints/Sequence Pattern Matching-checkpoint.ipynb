{
 "cells": [
  {
   "cell_type": "markdown",
   "metadata": {},
   "source": [
    "# Sequence Pattern Matching"
   ]
  },
  {
   "cell_type": "markdown",
   "metadata": {},
   "source": [
    "## Introduction"
   ]
  },
  {
   "cell_type": "markdown",
   "metadata": {},
   "source": [
    "Given strings a and b. Find whether a is a subsequence of b or not."
   ]
  },
  {
   "cell_type": "markdown",
   "metadata": {},
   "source": [
    "### Approach 1 - Using Stacks or Queues (I used stacks)"
   ]
  },
  {
   "cell_type": "code",
   "execution_count": 16,
   "metadata": {},
   "outputs": [],
   "source": [
    "def seq_pat_match(a, b):\n",
    "    stack_a = []\n",
    "\n",
    "    ## populating the stack the stack in such a way that the first character of a is on top\n",
    "    reversed_a = a[::-1]\n",
    "    for char in reversed_a:\n",
    "        stack_a.append(char)\n",
    "\n",
    "    ##### stack_a would look like this for a=\"axy\"\n",
    "    # a\n",
    "    # x\n",
    "    # y\n",
    "\n",
    "    ##### Now, iterating through b, and if the current character of b matches the top of stack_a, then, perform pop, else continue\n",
    "    for char in b:\n",
    "        top = stack_a[-1]\n",
    "        if char == top:\n",
    "            stack_a.pop()\n",
    "\n",
    "    #### If the stack finally gets empty, then that means a is subsequence of b\n",
    "    #### Else, not\n",
    "    if len(stack_a) == 0:\n",
    "        return True\n",
    "    else:\n",
    "        return False"
   ]
  },
  {
   "cell_type": "code",
   "execution_count": 25,
   "metadata": {},
   "outputs": [
    {
     "data": {
      "text/plain": [
       "False"
      ]
     },
     "execution_count": 25,
     "metadata": {},
     "output_type": "execute_result"
    }
   ],
   "source": [
    "a = \"axdyg\"\n",
    "b = \"adxcpy\"\n",
    "seq_pat_match(a, b)"
   ]
  },
  {
   "cell_type": "markdown",
   "metadata": {},
   "source": [
    "### Approach 2 - Using DP (LCS)\n",
    "\n",
    "If the length of Longest Common Subsequence between a and b  = length of a, then a is a subsequence of b.<br>\n",
    "\n",
    "Think of it, for a to be a subsequence of b, the \"entire\" a will be subsequence to b. \n",
    "\n",
    "This means that a will be the longest common subsequence between a and b.\n",
    "\n",
    "Why Longest? Because there cannot be any longer common subsequence than that because that would exceed a's length\n"
   ]
  },
  {
   "cell_type": "code",
   "execution_count": 26,
   "metadata": {},
   "outputs": [],
   "source": [
    "def seq_pat_match(a, b):\n",
    "    \n",
    "    n = len(a)\n",
    "    m = len(b)\n",
    "    \n",
    "    ### Applying iterative LCS\n",
    "    sol = [[-1 for j in range(m+1)] for i in range(n+1)]\n",
    "    for i in range(n+1):\n",
    "        for j in range(m+1):\n",
    "            if i==0 or j==0:\n",
    "                sol[i][j] = 0\n",
    "            else:\n",
    "                if a[i-1] == b[j-1]:\n",
    "                    sol[i][j] = 1 + sol[i-1][j-1]\n",
    "                else:\n",
    "                    sol[i][j] = max(sol[i-1][j], sol[i][j-1])\n",
    "    \n",
    "    lcs = sol[n][m]\n",
    "    if lcs == n:\n",
    "        return True\n",
    "    else:\n",
    "        return False\n",
    "                    "
   ]
  },
  {
   "cell_type": "code",
   "execution_count": 28,
   "metadata": {},
   "outputs": [
    {
     "data": {
      "text/plain": [
       "False"
      ]
     },
     "execution_count": 28,
     "metadata": {},
     "output_type": "execute_result"
    }
   ],
   "source": [
    "a = \"axdyg\"\n",
    "b = \"adxcpy\"\n",
    "seq_pat_match(a, b)"
   ]
  },
  {
   "cell_type": "code",
   "execution_count": null,
   "metadata": {},
   "outputs": [],
   "source": []
  }
 ],
 "metadata": {
  "kernelspec": {
   "display_name": "Python 3",
   "language": "python",
   "name": "python3"
  },
  "language_info": {
   "codemirror_mode": {
    "name": "ipython",
    "version": 3
   },
   "file_extension": ".py",
   "mimetype": "text/x-python",
   "name": "python",
   "nbconvert_exporter": "python",
   "pygments_lexer": "ipython3",
   "version": "3.7.1"
  }
 },
 "nbformat": 4,
 "nbformat_minor": 2
}
