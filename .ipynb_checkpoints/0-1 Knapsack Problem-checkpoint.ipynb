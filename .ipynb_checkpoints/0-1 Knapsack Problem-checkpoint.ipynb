{
 "cells": [
  {
   "cell_type": "markdown",
   "metadata": {},
   "source": [
    "# 0-1 Knapsack Problem"
   ]
  },
  {
   "cell_type": "markdown",
   "metadata": {},
   "source": [
    "## Introduction:\n"
   ]
  },
  {
   "cell_type": "markdown",
   "metadata": {},
   "source": [
    "Here, a bunch of items are there and a knapsack bag is there. <br>\n",
    "Each item has a weight and a value.<br>\n",
    "Knapsack bag has a weight limit.<br>\n",
    "Fill the knapsack with those items so that the value of the knapsack (total of the values of items present in the bag) is maximized.\n",
    "\n",
    "Because the end solution it involves is an optimal answer.<br>\n",
    "By optimal, I mean, maximum, minimum, largest, smallest, etc. <br>\n",
    "So, here the **maximum value** of the knapsack bag is asked to be returned <br>"
   ]
  },
  {
   "cell_type": "markdown",
   "metadata": {},
   "source": [
    "## Variables:\n",
    "weights (int[]) = array of the weights denoting the weights of the items. <br>\n",
    "values (int[]) = array of the values denoting the values of the corresponding items. <br>\n",
    "W (int) = Weight limit of the knapsack bag. <br>\n",
    "n (int) = The number of items (The number of elements in weights array or values array). <br>"
   ]
  },
  {
   "cell_type": "markdown",
   "metadata": {},
   "source": [
    "## Approach:\n",
    "**Step 1).** - Recursive solution. <br>\n",
    "**Step 2).** - Building the memoized solution (still recursive) from recursive solution. <br>\n",
    "**Step 3).** - Building the top-down solution (iterative solution) with the help of recursive solution. <br>"
   ]
  },
  {
   "cell_type": "markdown",
   "metadata": {},
   "source": [
    "## General Algorithm:\n",
    "We're going to start from the end of the weights and values array.\n",
    "\n",
    "If the current weight is greater than the available bag limit of the knapsack bag, then don't include that item and move forward.\n",
    "\n",
    "If the current weight is lesser than the available bag limit of the knapsack bag, then it is possible to include that item. So, find the maximum value associated with either putting that item in the bag or not.\n",
    "\n",
    "**We will do all of this until we traverse the entire weights and values array, or we exhaust the bag limit**\n"
   ]
  },
  {
   "cell_type": "markdown",
   "metadata": {},
   "source": [
    "## Let's code:"
   ]
  },
  {
   "cell_type": "markdown",
   "metadata": {},
   "source": [
    "### Setting up the inputs"
   ]
  },
  {
   "cell_type": "code",
   "execution_count": 21,
   "metadata": {},
   "outputs": [],
   "source": [
    "import time\n",
    "n = 4 ## 4 items\n",
    "weights = [1, 3, 4, 5] ## weights of those 4 items\n",
    "values = [2, 0, 0, 8] ## values of those 4 items\n",
    "W = 8 ## weight limit of the knapsack bag is 8kgs"
   ]
  },
  {
   "cell_type": "markdown",
   "metadata": {},
   "source": [
    "### Recursive solution:"
   ]
  },
  {
   "cell_type": "code",
   "execution_count": 22,
   "metadata": {},
   "outputs": [],
   "source": [
    "def knapsack(weights, values, W, n):\n",
    "    if (n==0 or W<=0):\n",
    "        return 0        ## Because no value will be added, as no item will be added at the base case\n",
    "    else:\n",
    "        current_item_weight = weights[n-1]\n",
    "        current_item_value = values[n-1]\n",
    "        if (current_item_weight <= W):\n",
    "            return max(current_item_value + knapsack(weights, values, W-current_item_weight, n-1), \n",
    "                       knapsack(weights, values, W, n-1))\n",
    "        else:\n",
    "            return knapsack(weights, values, W, n-1)"
   ]
  },
  {
   "cell_type": "code",
   "execution_count": 23,
   "metadata": {},
   "outputs": [
    {
     "name": "stdout",
     "output_type": "stream",
     "text": [
      "For the above inputs, the maximum possible value achieved is: 10\n",
      "Computation took 0.1010894775390625 ms\n"
     ]
    }
   ],
   "source": [
    "start = time.time()\n",
    "output = knapsack(weights, values, W, n)\n",
    "end = time.time()\n",
    "print (\"For the above inputs, the maximum possible value achieved is: {}\\nComputation took {} ms\".format(output, (end-start)*1000))"
   ]
  },
  {
   "cell_type": "markdown",
   "metadata": {},
   "source": [
    "## Memoized solution:"
   ]
  },
  {
   "cell_type": "markdown",
   "metadata": {},
   "source": [
    "So, here, we are going to maintain a vector/matrix **\"history\"** which will store the outputs of all the **knapsack()** function calls. \n",
    "\n",
    "So, whenever we will call the knapsack function, we will first check in that matrix whether it has already been called and computed or not.\n",
    "\n",
    "It has been called before then, the matrix will contain the output of that function call, and we'll just pick it up rather than re-computing it again.\n",
    "\n",
    "If any value in the matrix is -1, then that would mean that it needs to be computed. Any other value would correspond to a pre-computed solution."
   ]
  },
  {
   "cell_type": "markdown",
   "metadata": {},
   "source": [
    "### How will we determine whether we wanna use a 1-D vector or 2-D matrix or 3-D matrix, etc. to store the history?"
   ]
  },
  {
   "cell_type": "markdown",
   "metadata": {},
   "source": [
    "Just look at the parameters of the knapsack function call. And see, on every recursive call, how many variables are changing.\n",
    "\n",
    "Now, in the above recursive solution, we can see that **W** and **n** are changing at every recursive call.\n",
    "\n",
    "Meaning, **2** variables are changing at every recursive call.\n",
    "\n",
    "Hence, the history matrix will be a **2** -D matrix.\n",
    "\n",
    "So, here in the matrix, one dimension (rows) will be dedicated to the values of **n** <br>\n",
    "And, the other dimension (columns) will be dedicated to the values of **W** <br>"
   ]
  },
  {
   "cell_type": "code",
   "execution_count": 5,
   "metadata": {},
   "outputs": [],
   "source": [
    "## history[n+1][w+1]\n",
    "history = [[-1 for i in range(W+1)] for j in range(n+1)]"
   ]
  },
  {
   "cell_type": "code",
   "execution_count": 6,
   "metadata": {},
   "outputs": [],
   "source": [
    "def memoized_knapsack(weights, values, W, n, history):\n",
    "    if n==0 or W==0:\n",
    "        history[n][W] = 0\n",
    "        return history[n][W]\n",
    "    else:\n",
    "        if history[n][W] != -1:\n",
    "            return history[n][W]\n",
    "        current_item_weight = weights[n-1]\n",
    "        current_item_value = values[n-1]\n",
    "        if current_item_weight <= W:\n",
    "            history[n][W] = max(current_item_value + memoized_knapsack(weights, values, W-current_item_weight, n-1, history),\n",
    "                         memoized_knapsack(weights, values, W, n-1, history))\n",
    "            return history[n][W]\n",
    "        else:\n",
    "            history[n][W] = memoized_knapsack(weights, values, W, n-1, history)\n",
    "            return history[n][W]\n",
    "        "
   ]
  },
  {
   "cell_type": "code",
   "execution_count": 7,
   "metadata": {},
   "outputs": [
    {
     "name": "stdout",
     "output_type": "stream",
     "text": [
      "For the above inputs, the maximum possible value achieved is: 12\n",
      "Computation took 0.13566017150878906 ms\n"
     ]
    }
   ],
   "source": [
    "start = time.time()\n",
    "output = memoized_knapsack(weights, values, W, n, history)\n",
    "end = time.time()\n",
    "print (\"For the above inputs, the maximum possible value achieved is: {}\\nComputation took {} ms\".format(output, (end-start)*1000))"
   ]
  },
  {
   "cell_type": "markdown",
   "metadata": {},
   "source": [
    "## Iterative solution:"
   ]
  },
  {
   "cell_type": "markdown",
   "metadata": {},
   "source": [
    "Here, we would construct a top-down matrix using an iterative approach, rather than recursive approach.\n",
    "So, here, the matrix will be initialized **iteratively** with some values in some cells, on the basis of the equivalent base condition in the recursive approach.\n",
    "\n",
    "So, in this question, the base condition was (n==0 or W==0) and the return value for base condition was 0.\n",
    "\n",
    "So, we will initialize our matrix with 0's (return value) in those cells where n==0 or W==0 =, hence, the first row (n==0) and first column (W==0), will be populated with zeroes.\n",
    "\n",
    "Then, we will iterate through the matrix and derive further sub-solutions from previous solution.\n",
    "\n",
    "**And finally, the last element of the matrix (the bottom-rightmost element) which will correspond to the actual value of n and W in the question, will provide us the final output for our question.**"
   ]
  },
  {
   "cell_type": "markdown",
   "metadata": {},
   "source": [
    "## Why iterative approach? What's the problem with recursive approach?\n",
    "**The time and space complexity will be same in both of them** BUT<br>\n",
    "BUT<br>\n",
    "BUT<br>\n",
    "In recursive approach, every time a function is being called and there might come a point where the stack overflow would occur if the number of recursive function calls become really high. <br>\n",
    "Although, this thing is very very rare to happen, still it's good to deal with it.<br>\n",
    "So, the iterative approach will eliminate any possibility of stack overflow error."
   ]
  },
  {
   "cell_type": "markdown",
   "metadata": {},
   "source": [
    "## Here's a simple approach:\n",
    "Look at the memoized approach and just replace n with i and W with j.\n",
    "\n",
    "And refactor accordingly."
   ]
  },
  {
   "cell_type": "code",
   "execution_count": 8,
   "metadata": {},
   "outputs": [],
   "source": [
    "sub_solutions = [[-1 for i in range(W+1)] for j in range(n+1)]"
   ]
  },
  {
   "cell_type": "code",
   "execution_count": 9,
   "metadata": {},
   "outputs": [],
   "source": [
    "def iterative_knapsack(weights, values, W, n, sub_solutions):\n",
    "    for i in range(0, n+1):\n",
    "        for j in range(0, W+1):\n",
    "            if i==0 or j==0:\n",
    "                sub_solutions[i][j] = 0\n",
    "            else:\n",
    "                current_W = j\n",
    "                current_n = i\n",
    "                current_item_weight = weights[i-1]\n",
    "                current_item_value = values[i-1]\n",
    "                if (current_item_weight <= current_W):\n",
    "                    sub_solutions[i][j] = max(current_item_value + sub_solutions[i-1][j-current_item_weight],\n",
    "                                             sub_solutions[i-1][j])\n",
    "                else:\n",
    "                    sub_solutions[i][j] = sub_solutions[i-1][j]\n",
    "    return sub_solutions[n][W]"
   ]
  },
  {
   "cell_type": "code",
   "execution_count": 10,
   "metadata": {},
   "outputs": [
    {
     "name": "stdout",
     "output_type": "stream",
     "text": [
      "For the above inputs, the maximum possible value achieved is: 12\n",
      "Computation took 0.08702278137207031 ms\n"
     ]
    }
   ],
   "source": [
    "start = time.time()\n",
    "output = iterative_knapsack(weights, values, W, n, sub_solutions)\n",
    "end = time.time()\n",
    "print (\"For the above inputs, the maximum possible value achieved is: {}\\nComputation took {} ms\".format(output, (end-start)*1000))"
   ]
  },
  {
   "cell_type": "code",
   "execution_count": 11,
   "metadata": {},
   "outputs": [
    {
     "data": {
      "text/plain": [
       "[[0, 0, 0, 0, 0, 0, 0, 0, 0],\n",
       " [0, 2, 2, 2, 2, 2, 2, 2, 2],\n",
       " [0, 2, 2, 4, 6, 6, 6, 6, 6],\n",
       " [0, 2, 2, 4, 6, 8, 8, 10, 12],\n",
       " [0, 2, 2, 4, 6, 8, 10, 10, 12]]"
      ]
     },
     "execution_count": 11,
     "metadata": {},
     "output_type": "execute_result"
    }
   ],
   "source": [
    "sub_solutions"
   ]
  },
  {
   "cell_type": "markdown",
   "metadata": {},
   "source": [
    "## Benchmark Test:\n",
    "Let's compare the performances of all the approaches"
   ]
  },
  {
   "cell_type": "code",
   "execution_count": 16,
   "metadata": {},
   "outputs": [
    {
     "name": "stdout",
     "output_type": "stream",
     "text": [
      "---------------------------------Below is the recursive approach-------------------------------------\n",
      "For the above inputs, the maximum possible value achieved is: 12\n",
      "Computation of 5 calls took 0.1761913299560547 ms\n",
      "---------------------------------Below is the memoized approach-------------------------------------\n",
      "For the above inputs, the maximum possible value achieved is: 12\n",
      "Computation of 5 calls took 0.12874603271484375 ms\n",
      "---------------------------------Below is the iterative approach-------------------------------------\n",
      "For the above inputs, the maximum possible value achieved is: 12\n",
      "Computation of 5 calls took 0.2505779266357422 ms\n"
     ]
    }
   ],
   "source": [
    "print (\"---------------------------------Below is the recursive approach-------------------------------------\")\n",
    "start = time.time()\n",
    "output = knapsack(weights, values, W, n)\n",
    "output = knapsack(weights, values, W, n)\n",
    "output = knapsack(weights, values, W, n)\n",
    "output = knapsack(weights, values, W, n)\n",
    "output = knapsack(weights, values, W, n)\n",
    "end = time.time()\n",
    "print (\"For the above inputs, the maximum possible value achieved is: {}\\nComputation of 5 calls took {} ms\".format(output, (end-start)*1000))\n",
    "\n",
    "print (\"---------------------------------Below is the memoized approach-------------------------------------\")\n",
    "start = time.time()\n",
    "output = memoized_knapsack(weights, values, W, n, history)\n",
    "output = memoized_knapsack(weights, values, W, n, history)\n",
    "output = memoized_knapsack(weights, values, W, n, history)\n",
    "output = memoized_knapsack(weights, values, W, n, history)\n",
    "output = memoized_knapsack(weights, values, W, n, history)\n",
    "end = time.time()\n",
    "print (\"For the above inputs, the maximum possible value achieved is: {}\\nComputation of 5 calls took {} ms\".format(output, (end-start)*1000))\n",
    "\n",
    "print (\"---------------------------------Below is the iterative approach-------------------------------------\")\n",
    "start = time.time()\n",
    "output = iterative_knapsack(weights, values, W, n, sub_solutions)\n",
    "output = iterative_knapsack(weights, values, W, n, sub_solutions)\n",
    "output = iterative_knapsack(weights, values, W, n, sub_solutions)\n",
    "output = iterative_knapsack(weights, values, W, n, sub_solutions)\n",
    "output = iterative_knapsack(weights, values, W, n, sub_solutions)\n",
    "end = time.time()\n",
    "print (\"For the above inputs, the maximum possible value achieved is: {}\\nComputation of 5 calls took {} ms\".format(output, (end-start)*1000))"
   ]
  },
  {
   "cell_type": "code",
   "execution_count": 20,
   "metadata": {},
   "outputs": [
    {
     "data": {
      "text/plain": [
       "[[0, 0, 0, 0, 0, 0, 0, 0, 0],\n",
       " [0, 2, 2, 2, 2, 2, 2, 2, 2],\n",
       " [0, 2, 2, 4, 6, 6, 6, 6, 6],\n",
       " [0, 2, 2, 4, 6, 8, 8, 10, 12],\n",
       " [0, 2, 2, 4, 6, 8, 10, 10, 12]]"
      ]
     },
     "execution_count": 20,
     "metadata": {},
     "output_type": "execute_result"
    }
   ],
   "source": [
    "sub_solutions"
   ]
  },
  {
   "cell_type": "code",
   "execution_count": null,
   "metadata": {},
   "outputs": [],
   "source": []
  }
 ],
 "metadata": {
  "kernelspec": {
   "display_name": "Python 3",
   "language": "python",
   "name": "python3"
  },
  "language_info": {
   "codemirror_mode": {
    "name": "ipython",
    "version": 3
   },
   "file_extension": ".py",
   "mimetype": "text/x-python",
   "name": "python",
   "nbconvert_exporter": "python",
   "pygments_lexer": "ipython3",
   "version": "3.7.1"
  }
 },
 "nbformat": 4,
 "nbformat_minor": 2
}
