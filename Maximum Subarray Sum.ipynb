{
 "cells": [
  {
   "cell_type": "markdown",
   "metadata": {},
   "source": [
    "# Maximum Subarray Sum Problem"
   ]
  },
  {
   "cell_type": "markdown",
   "metadata": {},
   "source": [
    "## Introduction"
   ]
  },
  {
   "cell_type": "markdown",
   "metadata": {},
   "source": [
    "You given an array of integers.<br>\n",
    "Find the contiguous subarray of elements which result in maximum sum value if added\n",
    "\n",
    "For example, <br>\n",
    "array = [1, -1, 3, 2, -1]\n",
    "\n",
    "Here, the output = 5 which corresponds to the sum of elements of the subarray [3, 2]\n",
    "\n",
    "Another example, array = [1, 3, 2, -14, 3, 3, 2, -1]\n",
    "\n",
    "Here, the output = 13 which corresponds to the sum of elements of the subarray [1, 3, 2, -1, 3, 3, 2]"
   ]
  },
  {
   "cell_type": "code",
   "execution_count": 234,
   "metadata": {},
   "outputs": [],
   "source": [
    "def solve(integers, n, sum_till_now):\n",
    "    if n==0:\n",
    "        return sum_till_now\n",
    "    else:\n",
    "        current_int = integers[n-1]\n",
    "        \n",
    "        ### Possibility 1 -> Sum after including the current_item i.e. sum_till_now + current_item\n",
    "        ### Possibility 2 -> Sum after stopping right here i.e. sum_till_now\n",
    "        ### Possibility 3 -> Sum after leaving the current sub array and starting a new one i.e. 0\n",
    "        \n",
    "        p1 = solve(integers, n-1, current_int+sum_till_now)\n",
    "        #p2 = max(solve(integers, n-1, 0), sum_till_now)\n",
    "        p2 = sum_till_now\n",
    "        p3 = solve(integers, n-1, 0)\n",
    "        return max(p1, p2, p3)"
   ]
  },
  {
   "cell_type": "code",
   "execution_count": 239,
   "metadata": {},
   "outputs": [],
   "source": [
    "integers = [1, 3, 2, -41, -3, -3, -2]\n",
    "n = len(integers)"
   ]
  },
  {
   "cell_type": "code",
   "execution_count": 240,
   "metadata": {},
   "outputs": [
    {
     "data": {
      "text/plain": [
       "6"
      ]
     },
     "execution_count": 240,
     "metadata": {},
     "output_type": "execute_result"
    }
   ],
   "source": [
    "solve(integers, n, 0)"
   ]
  },
  {
   "cell_type": "code",
   "execution_count": null,
   "metadata": {},
   "outputs": [],
   "source": []
  }
 ],
 "metadata": {
  "kernelspec": {
   "display_name": "Python 3",
   "language": "python",
   "name": "python3"
  },
  "language_info": {
   "codemirror_mode": {
    "name": "ipython",
    "version": 3
   },
   "file_extension": ".py",
   "mimetype": "text/x-python",
   "name": "python",
   "nbconvert_exporter": "python",
   "pygments_lexer": "ipython3",
   "version": "3.7.1"
  }
 },
 "nbformat": 4,
 "nbformat_minor": 2
}
