{
 "cells": [
  {
   "cell_type": "markdown",
   "metadata": {},
   "source": [
    "# True Boolean Parenthesisation"
   ]
  },
  {
   "cell_type": "markdown",
   "metadata": {},
   "source": [
    "## Introduction"
   ]
  },
  {
   "cell_type": "markdown",
   "metadata": {},
   "source": [
    "Given a string containing \"T\", \"F\", \"|\", \"&\", \"^\" where T-> True, F->False, |->or, &->AND, ^->XOR Operation\n",
    "\n",
    "Count the number of ways to put parentheses to it such that the resulting expression results in True\n",
    "\n",
    "For example, <br>\n",
    "\n"
   ]
  },
  {
   "cell_type": "markdown",
   "metadata": {},
   "source": [
    "## Let's code"
   ]
  },
  {
   "cell_type": "code",
   "execution_count": 20,
   "metadata": {},
   "outputs": [],
   "source": [
    "def solve(s, start, end, required):\n",
    "    if start==end:\n",
    "        current_output = s[start]==\"T\"\n",
    "        if required == current_output:\n",
    "            return 1\n",
    "        else:\n",
    "            return 0\n",
    "    elif start > end:\n",
    "        return 0\n",
    "    else:\n",
    "        ways = 0\n",
    "        for k in range(start, end-1, 2): ### k-> start...end-2 inclusive\n",
    "            left_true_ways = solve(s, start, k, True)\n",
    "            left_false_ways = solve(s, start, k, False)\n",
    "            right_true_ways = solve(s, k+2, end, True)\n",
    "            right_false_ways = solve(s, k+2, end, False)\n",
    "            \n",
    "            operator = s[k+1]\n",
    "            if required == True:\n",
    "                if operator == \"|\":\n",
    "                    ways += (left_true_ways*right_true_ways) + (left_true_ways*right_false_ways) + (left_false_ways*right_true_ways)\n",
    "                elif operator == \"&\":\n",
    "                    ways += (left_true_ways*right_true_ways)\n",
    "                elif operator == \"^\":\n",
    "                    ways += (left_true_ways*right_false_ways) + (left_false_ways*right_true_ways)\n",
    "                else:\n",
    "                    ways += 0\n",
    "            else:\n",
    "                if operator == \"|\":\n",
    "                    ways += (left_false_ways*right_false_ways)\n",
    "                elif operator == \"&\":\n",
    "                    ways += (left_false_ways*right_false_ways) + (left_true_ways*right_false_ways) + (left_false_ways*right_true_ways)\n",
    "                elif operator == \"^\":\n",
    "                    ways += (left_true_ways*right_true_ways) + (left_false_ways*right_false_ways)\n",
    "                else:\n",
    "                    ways += 0\n",
    "        return ways\n",
    "    \n",
    "def memoized_solve(s, start, end, required, history):\n",
    "    if history[start][end][required] != -1:\n",
    "        return history[start][end][required]\n",
    "    if start > end:\n",
    "        history[start][end][required] = 0\n",
    "        return history[start][end][required]\n",
    "    elif start == end:\n",
    "        if (s[start] == \"T\" and required==1) or (s[start] == \"F\" and required==0):\n",
    "            history[start][end][required] = 1\n",
    "        else:\n",
    "            history[start][end][required] = 0\n",
    "        return history[start][end][required]\n",
    "    else:\n",
    "        ways = 0\n",
    "        for k in range(start, end-1, 2): #### k -> start .. end-2 inclusive at the jumps of 2\n",
    "            left_true_ways = history[start][k][1]\n",
    "            left_false_ways = history[start][k][0]\n",
    "            right_true_ways = history[k+2][end][1]\n",
    "            right_false_ways = history[k+2][end][0]\n",
    "            if left_true_ways == -1:\n",
    "                left_true_ways = memoized_solve(s, start, k, 1, history)\n",
    "            if left_false_ways == -1:\n",
    "                left_false_ways = memoized_solve(s, start, k, 0, history)\n",
    "            if right_true_ways == -1:\n",
    "                right_true_ways = memoized_solve(s, k+2, end, 1, history)\n",
    "            if right_false_ways == -1:\n",
    "                right_false_ways = memoized_solve(s, k+2, end, 0, history)\n",
    "                \n",
    "            operator = s[k+1]\n",
    "            if required == 1:\n",
    "                if operator == \"|\":\n",
    "                    ways += (left_true_ways*right_true_ways)+(left_true_ways*right_false_ways)+(left_false_ways*right_true_ways)\n",
    "                elif operator == \"&\":\n",
    "                    ways += (left_true_ways*right_true_ways)\n",
    "                elif operator == \"^\":\n",
    "                    ways += (left_true_ways*right_false_ways) + (left_false_ways*right_true_ways)\n",
    "                else:\n",
    "                    ways += 0\n",
    "            else:\n",
    "                if operator == \"|\":\n",
    "                    ways += (left_false_ways*right_false_ways)\n",
    "                elif operator == \"&\":\n",
    "                    ways += (left_false_ways*right_false_ways) + (left_true_ways*right_false_ways) + (left_false_ways*right_true_ways)\n",
    "                elif operator == \"^\":\n",
    "                    ways += (left_false_ways*right_false_ways) + (left_true_ways*right_true_ways)\n",
    "                else:\n",
    "                    ways += 0\n",
    "        history[start][end][required] = ways\n",
    "        return history[start][end][required]"
   ]
  },
  {
   "cell_type": "code",
   "execution_count": 27,
   "metadata": {},
   "outputs": [],
   "source": [
    "s = \"T|T&F^T\"\n",
    "n = len(s)\n",
    "start = 0\n",
    "end = n-1\n",
    "history = [[[-1 for k in range(2)] for j in range(end+1)] for i in range(end+1)]"
   ]
  },
  {
   "cell_type": "code",
   "execution_count": 28,
   "metadata": {},
   "outputs": [
    {
     "data": {
      "text/plain": [
       "4"
      ]
     },
     "execution_count": 28,
     "metadata": {},
     "output_type": "execute_result"
    }
   ],
   "source": [
    "solve(s, start, end, True)"
   ]
  },
  {
   "cell_type": "code",
   "execution_count": null,
   "metadata": {},
   "outputs": [],
   "source": []
  },
  {
   "cell_type": "code",
   "execution_count": null,
   "metadata": {},
   "outputs": [],
   "source": []
  }
 ],
 "metadata": {
  "kernelspec": {
   "display_name": "Python 3",
   "language": "python",
   "name": "python3"
  },
  "language_info": {
   "codemirror_mode": {
    "name": "ipython",
    "version": 3
   },
   "file_extension": ".py",
   "mimetype": "text/x-python",
   "name": "python",
   "nbconvert_exporter": "python",
   "pygments_lexer": "ipython3",
   "version": "3.7.1"
  }
 },
 "nbformat": 4,
 "nbformat_minor": 2
}
