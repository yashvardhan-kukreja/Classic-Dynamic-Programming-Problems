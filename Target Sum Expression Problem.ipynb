{
 "cells": [
  {
   "cell_type": "markdown",
   "metadata": {},
   "source": [
    "## Target Sum Expression Problem:"
   ]
  },
  {
   "cell_type": "markdown",
   "metadata": {},
   "source": [
    "## Introduction:"
   ]
  },
  {
   "cell_type": "markdown",
   "metadata": {},
   "source": [
    "Here, you are given an array of integers and a target result.\n",
    "\n",
    "You have to attach \"+\" or \"-\" signs in front of each integer in the above given array so as to form an expression which mathematically, results in the inputted target result.\n",
    "\n",
    "For example,\n",
    "\n",
    "**Input**\n",
    "\n",
    "array = [1, 1, 2, 3]<br>\n",
    "target = 1\n",
    "\n",
    "**Output**\n",
    "\n",
    "\"-1+1-2+3\""
   ]
  },
  {
   "cell_type": "markdown",
   "metadata": {},
   "source": [
    "## My Approach:"
   ]
  },
  {
   "cell_type": "markdown",
   "metadata": {},
   "source": [
    "create a solve() function which takes in the \"integers\" (array), n, target, current_output\n",
    "\n",
    "(Here, current_output will be initially fed as an empty string but at every recursive call it will be prepended with a \"+\" or \"-\" depending on which produces the result)\n",
    "\n",
    "\n",
    "So, first of all, a check is going to be performed if n == 0, meaning if we have reached the end of the string.\n",
    "\n",
    "if we have, then, another check will be performed i.e. whether the \"target\" has become zero, meaning we got the perfect bunch of signs which will provide us the target value if applied to the integers array.<br>\n",
    "And, if target!=0, then just return False meaning, the current_output is wrong and will NOT lead to achieving the target.\n",
    "\n",
    "\n",
    "Then, if n != 0: meaning, we are still left with some array\n",
    "So, we will take the current last item of the slice of the array we are dealing with (integers[n-1]) and we will return the output which corresponds to producing the result which can be **either through adding the number (hence, prepending \"+\" and updating the target -> target-number) or through subracting the number (hence, prepending \"-\" and updating the target -> target + number)**"
   ]
  },
  {
   "cell_type": "code",
   "execution_count": 51,
   "metadata": {},
   "outputs": [
    {
     "name": "stdout",
     "output_type": "stream",
     "text": [
      "-1+1-2+3\n"
     ]
    }
   ],
   "source": [
    "def solve(integers, n, target, current_output):\n",
    "    if n==0:\n",
    "        if target==0:\n",
    "            return current_output\n",
    "        else:\n",
    "            return False\n",
    "    else:\n",
    "        current_int = integers[n-1]\n",
    "        return solve(integers, n-1, target-current_int, \"+\"+current_output) or solve(integers, n-1, target+current_int, \"-\"+current_output)\n",
    "\n",
    "\n",
    "integers = [1, 1, 2, 3]\n",
    "n = len(integers)\n",
    "target = 1\n",
    "initial_output = \"\"\n",
    "\n",
    "signs = solve(integers, n, target, initial_output)\n",
    "\n",
    "final_output = \"\"\n",
    "\n",
    "## Concatenating the signs with the corresponding integers\n",
    "for i in range(n):\n",
    "    final_output += signs[i] + str(integers[i])\n",
    "    \n",
    "print (final_output)"
   ]
  },
  {
   "cell_type": "markdown",
   "metadata": {},
   "source": [
    "### A freaking better approach"
   ]
  },
  {
   "cell_type": "markdown",
   "metadata": {},
   "source": [
    "So, basically, we have to attach a \"+\" or \"-\" sign in front of every element of \"integers\"\n",
    "\n",
    "So, in the end, we will be left with a set of integers having \"+\" in front of them -> **Set A**<br>\n",
    "And, we will be left with the remaining set of integers having \"-\" in front of them -> **Set B** <br>\n",
    "\n",
    "So, say if the array is  = [a, b, c, d, e, f] and the target_sum = X\n",
    "And, the answer is -a+b-c-d-e+f = X\n",
    "\n",
    "Set A -> [-a, -c, -d, -e]\n",
    "Set B -> [b, f]\n",
    "\n",
    "So, Set A + Set B = X\n",
    "\n",
    "Hence, [-a, -c, -d, -e] + [b, f]  = X\n",
    "\n",
    "Or, -[a, c, d, e] + [b, f] = X\n",
    "\n",
    "-SetA + Set B = X\n",
    "\n",
    "SetB - SetA = X\n",
    "\n",
    "Here, Set A is one partition from array and Set B is the partition including remaining elements of the array\n",
    "\n",
    "And there we go....\n",
    "\n",
    "we are at the problem of target subset difference"
   ]
  },
  {
   "cell_type": "code",
   "execution_count": null,
   "metadata": {},
   "outputs": [],
   "source": []
  }
 ],
 "metadata": {
  "kernelspec": {
   "display_name": "Python 3",
   "language": "python",
   "name": "python3"
  },
  "language_info": {
   "codemirror_mode": {
    "name": "ipython",
    "version": 3
   },
   "file_extension": ".py",
   "mimetype": "text/x-python",
   "name": "python",
   "nbconvert_exporter": "python",
   "pygments_lexer": "ipython3",
   "version": "3.7.1"
  }
 },
 "nbformat": 4,
 "nbformat_minor": 2
}
