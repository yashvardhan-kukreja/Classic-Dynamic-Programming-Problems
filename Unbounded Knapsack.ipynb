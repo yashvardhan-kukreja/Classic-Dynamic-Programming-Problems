{
 "cells": [
  {
   "cell_type": "markdown",
   "metadata": {},
   "source": [
    "# Unbounded Knapsack"
   ]
  },
  {
   "cell_type": "markdown",
   "metadata": {},
   "source": [
    "## Introduction"
   ]
  },
  {
   "cell_type": "markdown",
   "metadata": {},
   "source": [
    "You are given an array denoting the weights of the item.<br>\n",
    "You are given an array denoting the values of the items correspondingly.<br>\n",
    "You are given the weight capacity of the bag -> W\n",
    "\n",
    "Find the maximum value attainable by the bag if the items are added to the bag where any item can be added any number of times.<br>\n",
    "Basically, the only limit is the weight capacity of the bag. Access to the items is countless and you can add any item any number of times into the bag provided the capacity of the bag is not exceeded.\n",
    "\n",
    "For example,<br>\n",
    "weights = [1, 3, 4, 5]<br>\n",
    "values = [2, 0, 0, 8]<br>\n",
    "W = 8 (capacity of the bag)\n",
    "\n",
    "So, here the output = 16.<br>\n",
    "As we can get the maximum value by adding the 1st item (weight=1, value=2) eight times.<br>"
   ]
  },
  {
   "cell_type": "code",
   "execution_count": 22,
   "metadata": {},
   "outputs": [],
   "source": [
    "def unbnd_knap(weights, values, n, W):\n",
    "    if n==0 or W==0:\n",
    "        return 0\n",
    "    else:\n",
    "        current_weight = weights[n-1]\n",
    "        current_value = values[n-1]\n",
    "        if current_weight <= W:\n",
    "            return max(current_value+unbnd_knap(weights, values, n, W-current_weight),\n",
    "                      current_value+unbnd_knap(weights, values, n-1, W-current_weight),\n",
    "                      unbnd_knap(weights, values, n-1, W))\n",
    "        else:\n",
    "            return unbnd_knap(weights, values, n-1, W)\n",
    "        \n",
    "def iter_unbnd_knap(weights, values, n, W):\n",
    "    sub_solutions = [[0 for j in range(W+1)] for i in range(n+1)]\n",
    "    for i in range(0, n+1):\n",
    "        for j in range(0, W+1):\n",
    "            if i==0 or j==0:\n",
    "                sub_solutions[i][j] = 0\n",
    "            else:\n",
    "                current_weight = weights[i-1]\n",
    "                current_value = values[i-1]\n",
    "                if current_weight <= j:\n",
    "                    sub_solutions[i][j] = max(current_value+sub_solutions[i][j-current_weight],\n",
    "                              current_value+sub_solutions[i-1][j-current_weight],\n",
    "                              sub_solutions[i-1][j])\n",
    "                else:\n",
    "                    sub_solutions[i][j] = sub_solutions[i-1][j]\n",
    "    return sub_solutions[n][W]"
   ]
  },
  {
   "cell_type": "code",
   "execution_count": 23,
   "metadata": {},
   "outputs": [],
   "source": [
    "n = 4 ## 4 items\n",
    "weights = [1, 3, 4, 5] ## weights of those 4 items\n",
    "values = [2, 0, 0, 8] ## values of those 4 items\n",
    "W = 8 ## weight limit of the knapsack bag is 8kgs"
   ]
  },
  {
   "cell_type": "code",
   "execution_count": 24,
   "metadata": {},
   "outputs": [
    {
     "data": {
      "text/plain": [
       "16"
      ]
     },
     "execution_count": 24,
     "metadata": {},
     "output_type": "execute_result"
    }
   ],
   "source": [
    "iter_unbnd_knap(weights, values, n, W)"
   ]
  },
  {
   "cell_type": "code",
   "execution_count": 18,
   "metadata": {},
   "outputs": [
    {
     "name": "stdout",
     "output_type": "stream",
     "text": [
      "16\n"
     ]
    }
   ],
   "source": [
    "n = 4 ## 4 items\n",
    "weights = [1, 3, 4, 5] ## weights of those 4 items\n",
    "values = [2, 0, 0, 8] ## values of those 4 items\n",
    "W = 8 ## weight limit of the knapsack bag is 8kgs\n",
    "\n",
    "            "
   ]
  },
  {
   "cell_type": "code",
   "execution_count": null,
   "metadata": {},
   "outputs": [],
   "source": []
  }
 ],
 "metadata": {
  "kernelspec": {
   "display_name": "Python 3",
   "language": "python",
   "name": "python3"
  },
  "language_info": {
   "codemirror_mode": {
    "name": "ipython",
    "version": 3
   },
   "file_extension": ".py",
   "mimetype": "text/x-python",
   "name": "python",
   "nbconvert_exporter": "python",
   "pygments_lexer": "ipython3",
   "version": "3.7.1"
  }
 },
 "nbformat": 4,
 "nbformat_minor": 2
}
